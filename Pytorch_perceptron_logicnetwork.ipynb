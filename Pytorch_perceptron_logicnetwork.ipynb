{
  "nbformat": 4,
  "nbformat_minor": 0,
  "metadata": {
    "colab": {
      "provenance": [],
      "collapsed_sections": [],
      "include_colab_link": true
    },
    "kernelspec": {
      "name": "python3",
      "display_name": "Python 3"
    },
    "language_info": {
      "name": "python"
    }
  },
  "cells": [
    {
      "cell_type": "markdown",
      "metadata": {
        "id": "view-in-github",
        "colab_type": "text"
      },
      "source": [
        "<a href=\"https://colab.research.google.com/github/OnurKerimoglu/Colab_Notebooks/blob/master/Pytorch_perceptron_logicnetwork.ipynb\" target=\"_parent\"><img src=\"https://colab.research.google.com/assets/colab-badge.svg\" alt=\"Open In Colab\"/></a>"
      ]
    },
    {
      "cell_type": "markdown",
      "source": [
        "## Toy perceptron\n"
      ],
      "metadata": {
        "id": "Qbal4UcmFGS4"
      }
    },
    {
      "cell_type": "code",
      "source": [
        "import torch\n",
        "import torch.nn as nn"
      ],
      "metadata": {
        "id": "hmh7H9zLFXmw"
      },
      "execution_count": 1,
      "outputs": []
    },
    {
      "cell_type": "code",
      "source": [
        "# define \"perceptron\"\n",
        "# a network that takes two input 'units' and produces a single output 'unit'\n",
        "perceptron = nn.Linear(2, 1)  \n",
        "perceptron"
      ],
      "metadata": {
        "colab": {
          "base_uri": "https://localhost:8080/"
        },
        "id": "SQGGSgXCFrxs",
        "outputId": "f6810239-a9c0-4b4c-9c3d-6c5ee2a6e13f"
      },
      "execution_count": 7,
      "outputs": [
        {
          "output_type": "execute_result",
          "data": {
            "text/plain": [
              "Linear(in_features=2, out_features=1, bias=True)"
            ]
          },
          "metadata": {},
          "execution_count": 7
        }
      ]
    },
    {
      "cell_type": "code",
      "source": [
        "?nn.Linear"
      ],
      "metadata": {
        "id": "4M88e307GHL4"
      },
      "execution_count": 3,
      "outputs": []
    },
    {
      "cell_type": "code",
      "source": [
        "perceptron = list(perceptron.parameters())  # returns weights and biases\n",
        "perceptron"
      ],
      "metadata": {
        "colab": {
          "base_uri": "https://localhost:8080/"
        },
        "id": "7FD6j-r6F3uO",
        "outputId": "7c945758-ec1d-4b68-c9cf-65286f9d5c7b"
      },
      "execution_count": 8,
      "outputs": [
        {
          "output_type": "execute_result",
          "data": {
            "text/plain": [
              "[Parameter containing:\n",
              " tensor([[0.0241, 0.5215]], requires_grad=True), Parameter containing:\n",
              " tensor([0.3766], requires_grad=True)]"
            ]
          },
          "metadata": {},
          "execution_count": 8
        }
      ]
    },
    {
      "cell_type": "code",
      "source": [
        "# We have as many weights as we have input units\n",
        "print('Perceptron Weights : ', perceptron[0][0].data.numpy())"
      ],
      "metadata": {
        "colab": {
          "base_uri": "https://localhost:8080/"
        },
        "id": "XpkQF3AVF88a",
        "outputId": "2ca66a99-e15d-4194-d000-201a2122a229"
      },
      "execution_count": 9,
      "outputs": [
        {
          "output_type": "stream",
          "name": "stdout",
          "text": [
            "Perceptron Weights :  [0.02406585 0.521545  ]\n"
          ]
        }
      ]
    },
    {
      "cell_type": "code",
      "source": [
        "# Q: How many bias terms would we have if we double the size of the input units? \n",
        "print('Perceptron Bias :', perceptron[1].data.numpy())"
      ],
      "metadata": {
        "colab": {
          "base_uri": "https://localhost:8080/"
        },
        "id": "3YeR3NEXGDLW",
        "outputId": "fdf571a7-b9a7-42e4-8962-418e1514ded1"
      },
      "execution_count": 10,
      "outputs": [
        {
          "output_type": "stream",
          "name": "stdout",
          "text": [
            "Perceptron Bias : [0.3765584]\n"
          ]
        }
      ]
    },
    {
      "cell_type": "markdown",
      "source": [
        "## Input data "
      ],
      "metadata": {
        "id": "aEryt7MQFJas"
      }
    },
    {
      "cell_type": "code",
      "source": [
        "import torch\n",
        "import torch.nn as nn\n",
        "\n",
        "# create data\n",
        "# start creating the the table for XOR, broken down in Xs and y\n",
        "Xs = torch.Tensor([[0., 0.],\n",
        "                   [0., 1.],\n",
        "                   [1., 0.],\n",
        "                   [1., 1.]])\n",
        "\n",
        "y = torch.Tensor([0, 1, 1, 0]).reshape(Xs.shape[0], 1)\n",
        "# Q: do you remember the tables for y = AND, y = OR? \n",
        "#   how would you represent them? "
      ],
      "metadata": {
        "id": "B6QpFQkG0jj7"
      },
      "execution_count": 11,
      "outputs": []
    },
    {
      "cell_type": "markdown",
      "source": [
        "![xor.png](data:image/png;base64,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)"
      ],
      "metadata": {
        "id": "Zuu-OWGfAYFR"
      }
    },
    {
      "cell_type": "code",
      "source": [
        "# Check out this this distinction, sometimes we do need singleton dimensions \n",
        "# this is a mild-annoyance from PyTorch's syntax \n",
        "torch.Tensor([1., 1., 1., 1.]).shape, y.shape"
      ],
      "metadata": {
        "colab": {
          "base_uri": "https://localhost:8080/"
        },
        "id": "1IzpK6s2C2Ea",
        "outputId": "d2eb00be-fc7e-4e1e-caf0-27a995a20a29"
      },
      "execution_count": 13,
      "outputs": [
        {
          "output_type": "execute_result",
          "data": {
            "text/plain": [
              "(torch.Size([4]), torch.Size([4, 1]))"
            ]
          },
          "metadata": {},
          "execution_count": 13
        }
      ]
    },
    {
      "cell_type": "code",
      "source": [
        "Xs"
      ],
      "metadata": {
        "colab": {
          "base_uri": "https://localhost:8080/"
        },
        "id": "bRUA8U6O03bP",
        "outputId": "6d867a4c-310b-4b65-ff6f-90485418dd73"
      },
      "execution_count": 14,
      "outputs": [
        {
          "output_type": "execute_result",
          "data": {
            "text/plain": [
              "tensor([[0., 0.],\n",
              "        [0., 1.],\n",
              "        [1., 0.],\n",
              "        [1., 1.]])"
            ]
          },
          "metadata": {},
          "execution_count": 14
        }
      ]
    },
    {
      "cell_type": "code",
      "source": [
        "y"
      ],
      "metadata": {
        "colab": {
          "base_uri": "https://localhost:8080/"
        },
        "id": "qAKT5Vtl06HU",
        "outputId": "39ada1ad-7819-4821-da7a-f34ed573bf51"
      },
      "execution_count": 15,
      "outputs": [
        {
          "output_type": "execute_result",
          "data": {
            "text/plain": [
              "tensor([[0.],\n",
              "        [1.],\n",
              "        [1.],\n",
              "        [0.]])"
            ]
          },
          "metadata": {},
          "execution_count": 15
        }
      ]
    },
    {
      "cell_type": "code",
      "source": [
        "?nn.Sigmoid()"
      ],
      "metadata": {
        "id": "z1iSBGeO7T2a"
      },
      "execution_count": null,
      "outputs": []
    },
    {
      "cell_type": "code",
      "source": [
        "??nn.ReLU()"
      ],
      "metadata": {
        "id": "Rz0TpRuO8dMu"
      },
      "execution_count": null,
      "outputs": []
    },
    {
      "cell_type": "markdown",
      "source": [
        "## Create Multilayer Perceptron to Compute XOR, AND, OR "
      ],
      "metadata": {
        "id": "QmuhPx-wFbac"
      }
    },
    {
      "cell_type": "code",
      "execution_count": 16,
      "metadata": {
        "id": "pubYyZL2z1iS"
      },
      "outputs": [],
      "source": [
        "# LOGIC is a subclass of nn.Module\n",
        "class LOGIC(nn.Module):\n",
        "    def __init__(self):\n",
        "        # here we define the network architecture \n",
        "        super(LOGIC, self).__init__()\n",
        "        #nn.Linear is a fully connected layer\n",
        "        self.linear = nn.Linear(2, 2)\n",
        "        # nn.Sigmoid is a sigmoid activation\n",
        "        # Q: which activations functions can we use? \n",
        "        self.activation_function = nn.ReLU()\n",
        "        self.linear2 = nn.Linear(2, 1)\n",
        "    # here we define the forward pass    \n",
        "    def forward(self, input):\n",
        "        x = self.linear(input)\n",
        "        activation = self.activation_function(x)\n",
        "        # Q: what happens if we skip the sigmoid (or ReLU)? Try feeding x to the next function. \n",
        "        yh = self.linear2(activation)\n",
        "        # Q: what happens if we return activation instead of yh? \n",
        "        return yh"
      ]
    },
    {
      "cell_type": "code",
      "source": [
        "logic_network = LOGIC()\n",
        "# Q: what is an epoch? \n",
        "epochs = 1000 \n",
        "mseloss = nn.MSELoss() \n",
        "# The optimizer will perform gradient descent using the network's weights \n",
        "# and a given learning rate\n",
        "optimizer = torch.optim.Adam(logic_network.parameters(), lr = 0.03) \n",
        "all_losses = [] \n",
        "current_loss = 0 \n",
        "print_every = 50 \n",
        " \n",
        "for epoch in range(epochs): \n",
        "   \n",
        "    # input training example and return the prediction   \n",
        "    yhat = logic_network.forward(Xs)\n",
        "    \n",
        "    # calculate Mean Squared Error loss of our prediction  \n",
        "    loss = mseloss(yhat, y)\n",
        "      \n",
        "    # backpropagate to obtain all gradients in the weight layers  \n",
        "    loss.backward()\n",
        "    \n",
        "    #set a breakpoint to analyze    \n",
        "    #import pdb; pdb.set_trace()\n",
        "\n",
        "    # update model weights   \n",
        "    optimizer.step()\n",
        "\n",
        "    # remove current gradients for next iteration   \n",
        "    optimizer.zero_grad() \n",
        "   \n",
        "    # append to loss   \n",
        "    current_loss += loss  \n",
        " \n",
        "    if epoch % print_every == 0:       \n",
        "        all_losses.append(current_loss / print_every)       \n",
        "        current_loss = 0 \n",
        "     \n",
        "    # print progress   \n",
        "    if epoch % 500 == 0:     \n",
        "        print(f'Epoch: {epoch} completed')\n",
        "\n",
        "\n"
      ],
      "metadata": {
        "colab": {
          "base_uri": "https://localhost:8080/"
        },
        "id": "WRPZeqTvz9nI",
        "outputId": "b580636f-ef71-4d15-da9d-589b184c9390"
      },
      "execution_count": 27,
      "outputs": [
        {
          "output_type": "stream",
          "name": "stdout",
          "text": [
            "Epoch: 0 completed\n",
            "Epoch: 500 completed\n"
          ]
        }
      ]
    },
    {
      "cell_type": "code",
      "source": [
        "all_losses"
      ],
      "metadata": {
        "colab": {
          "base_uri": "https://localhost:8080/"
        },
        "id": "Xjfs0rkb1Kv7",
        "outputId": "230dee10-b17a-4f59-f8bb-6dab27e7d8c6"
      },
      "execution_count": 28,
      "outputs": [
        {
          "output_type": "execute_result",
          "data": {
            "text/plain": [
              "[tensor(0.0336, grad_fn=<DivBackward0>),\n",
              " tensor(0.5504, grad_fn=<DivBackward0>),\n",
              " tensor(0.2539, grad_fn=<DivBackward0>),\n",
              " tensor(0.2504, grad_fn=<DivBackward0>),\n",
              " tensor(0.2500, grad_fn=<DivBackward0>),\n",
              " tensor(0.2500, grad_fn=<DivBackward0>),\n",
              " tensor(0.2500, grad_fn=<DivBackward0>),\n",
              " tensor(0.2500, grad_fn=<DivBackward0>),\n",
              " tensor(0.2500, grad_fn=<DivBackward0>),\n",
              " tensor(0.2500, grad_fn=<DivBackward0>),\n",
              " tensor(0.2500, grad_fn=<DivBackward0>),\n",
              " tensor(0.2500, grad_fn=<DivBackward0>),\n",
              " tensor(0.2500, grad_fn=<DivBackward0>),\n",
              " tensor(0.2500, grad_fn=<DivBackward0>),\n",
              " tensor(0.2500, grad_fn=<DivBackward0>),\n",
              " tensor(0.2500, grad_fn=<DivBackward0>),\n",
              " tensor(0.2500, grad_fn=<DivBackward0>),\n",
              " tensor(0.2500, grad_fn=<DivBackward0>),\n",
              " tensor(0.2500, grad_fn=<DivBackward0>),\n",
              " tensor(0.2500, grad_fn=<DivBackward0>)]"
            ]
          },
          "metadata": {},
          "execution_count": 28
        }
      ]
    },
    {
      "cell_type": "code",
      "source": [
        "# test input\n",
        "input = torch.tensor([0., 0.])\n",
        "out = logic_network(input)\n",
        "out.round()"
      ],
      "metadata": {
        "colab": {
          "base_uri": "https://localhost:8080/"
        },
        "id": "CiaApGmg61pK",
        "outputId": "f35cc53a-c02d-441a-a7e2-e4299f252154"
      },
      "execution_count": 29,
      "outputs": [
        {
          "output_type": "execute_result",
          "data": {
            "text/plain": [
              "tensor([0.], grad_fn=<RoundBackward0>)"
            ]
          },
          "metadata": {},
          "execution_count": 29
        }
      ]
    },
    {
      "cell_type": "code",
      "source": [
        "input = torch.tensor([1., 1.])\n",
        "out = logic_network(input)\n",
        "out.round()"
      ],
      "metadata": {
        "colab": {
          "base_uri": "https://localhost:8080/"
        },
        "id": "YPZwAo408BGl",
        "outputId": "2caa1385-38b7-44e1-b5c6-0e8a81af6b44"
      },
      "execution_count": 30,
      "outputs": [
        {
          "output_type": "execute_result",
          "data": {
            "text/plain": [
              "tensor([0.], grad_fn=<RoundBackward0>)"
            ]
          },
          "metadata": {},
          "execution_count": 30
        }
      ]
    },
    {
      "cell_type": "code",
      "source": [
        "input = torch.tensor([0., 1.])\n",
        "out = logic_network(input)\n",
        "out.round()"
      ],
      "metadata": {
        "colab": {
          "base_uri": "https://localhost:8080/"
        },
        "id": "XQbMBOUl8H0A",
        "outputId": "c32e5ce0-b8ab-4e44-b145-d8a5d495807f"
      },
      "execution_count": 31,
      "outputs": [
        {
          "output_type": "execute_result",
          "data": {
            "text/plain": [
              "tensor([0.], grad_fn=<RoundBackward0>)"
            ]
          },
          "metadata": {},
          "execution_count": 31
        }
      ]
    },
    {
      "cell_type": "code",
      "source": [
        "input = torch.tensor([1., 0.])\n",
        "out = logic_network(input)\n",
        "out.round()"
      ],
      "metadata": {
        "colab": {
          "base_uri": "https://localhost:8080/"
        },
        "id": "J3LK72Ns8P5B",
        "outputId": "0c3074a1-a19c-48d7-bd64-a7ee530fec95"
      },
      "execution_count": 32,
      "outputs": [
        {
          "output_type": "execute_result",
          "data": {
            "text/plain": [
              "tensor([0.], grad_fn=<RoundBackward0>)"
            ]
          },
          "metadata": {},
          "execution_count": 32
        }
      ]
    },
    {
      "cell_type": "code",
      "source": [
        "import matplotlib.pyplot as plt\n",
        "\n",
        "with torch.no_grad():\n",
        "  plt.plot(all_losses)\n",
        "  plt.ylabel('Loss')\n",
        "  plt.show()"
      ],
      "metadata": {
        "colab": {
          "base_uri": "https://localhost:8080/",
          "height": 265
        },
        "id": "wVE-kes_0U6A",
        "outputId": "e75a8594-68a5-4d36-cb42-10be98b04bb4"
      },
      "execution_count": 33,
      "outputs": [
        {
          "output_type": "display_data",
          "data": {
            "text/plain": [
              "<Figure size 432x288 with 1 Axes>"
            ],
            "image/png": "[encoded data removed]"
          },
          "metadata": {
            "needs_background": "light"
          }
        }
      ]
    },
    {
      "cell_type": "code",
      "source": [],
      "metadata": {
        "id": "a80LKIfN1CXA"
      },
      "execution_count": null,
      "outputs": []
    }
  ]
}