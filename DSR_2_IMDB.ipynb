{
  "nbformat": 4,
  "nbformat_minor": 0,
  "metadata": {
    "colab": {
      "provenance": [],
      "authorship_tag": "ABX9TyOHTYZLgdExmSBRs5RByZCp",
      "include_colab_link": true
    },
    "kernelspec": {
      "name": "python3",
      "display_name": "Python 3"
    },
    "language_info": {
      "name": "python"
    }
  },
  "cells": [
    {
      "cell_type": "markdown",
      "metadata": {
        "id": "view-in-github",
        "colab_type": "text"
      },
      "source": [
        "<a href=\"https://colab.research.google.com/github/OnurKerimoglu/Colab_Notebooks/blob/master/DSR_2_IMDB.ipynb\" target=\"_parent\"><img src=\"https://colab.research.google.com/assets/colab-badge.svg\" alt=\"Open In Colab\"/></a>"
      ]
    },
    {
      "cell_type": "code",
      "execution_count": 2,
      "metadata": {
        "id": "12KqYOZrs339"
      },
      "outputs": [],
      "source": [
        "import tensorflow as tf\n",
        "from tensorflow.keras import models, layers\n",
        "import tensorflow_datasets as tfds\n",
        "import tensorflow_hub as hub\n",
        "import matplotlib.pyplot as plt\n",
        "import numpy as np"
      ]
    },
    {
      "cell_type": "code",
      "source": [
        "datasets,info = tfds.load(\n",
        "    \"imdb_reviews/plain_text\",\n",
        "    split = [\"train\",\"test[:50%]\",\"test[50%:]\"],\n",
        "    as_supervised = True,\n",
        "    with_info = True\n",
        ")\n",
        "dataset_train_original = datasets[0]\n",
        "dataset_validate_original = datasets[1]\n",
        "dataset_test_original = datasets[2]\n",
        "info"
      ],
      "metadata": {
        "colab": {
          "base_uri": "https://localhost:8080/"
        },
        "id": "FOIrAlLItr9w",
        "outputId": "48fb6ef0-7372-49d1-ed81-61ff904ed7ad"
      },
      "execution_count": 7,
      "outputs": [
        {
          "output_type": "execute_result",
          "data": {
            "text/plain": [
              "tfds.core.DatasetInfo(\n",
              "    name='imdb_reviews',\n",
              "    full_name='imdb_reviews/plain_text/1.0.0',\n",
              "    description=\"\"\"\n",
              "    Large Movie Review Dataset.\n",
              "    This is a dataset for binary sentiment classification containing substantially more data than previous benchmark datasets. We provide a set of 25,000 highly polar movie reviews for training, and 25,000 for testing. There is additional unlabeled data for use as well.\n",
              "    \"\"\",\n",
              "    config_description=\"\"\"\n",
              "    Plain text\n",
              "    \"\"\",\n",
              "    homepage='http://ai.stanford.edu/~amaas/data/sentiment/',\n",
              "    data_path='~/tensorflow_datasets/imdb_reviews/plain_text/1.0.0',\n",
              "    file_format=tfrecord,\n",
              "    download_size=80.23 MiB,\n",
              "    dataset_size=129.83 MiB,\n",
              "    features=FeaturesDict({\n",
              "        'label': ClassLabel(shape=(), dtype=tf.int64, num_classes=2),\n",
              "        'text': Text(shape=(), dtype=tf.string),\n",
              "    }),\n",
              "    supervised_keys=('text', 'label'),\n",
              "    disable_shuffling=False,\n",
              "    splits={\n",
              "        'test': <SplitInfo num_examples=25000, num_shards=1>,\n",
              "        'train': <SplitInfo num_examples=25000, num_shards=1>,\n",
              "        'unsupervised': <SplitInfo num_examples=50000, num_shards=1>,\n",
              "    },\n",
              "    citation=\"\"\"@InProceedings{maas-EtAl:2011:ACL-HLT2011,\n",
              "      author    = {Maas, Andrew L.  and  Daly, Raymond E.  and  Pham, Peter T.  and  Huang, Dan  and  Ng, Andrew Y.  and  Potts, Christopher},\n",
              "      title     = {Learning Word Vectors for Sentiment Analysis},\n",
              "      booktitle = {Proceedings of the 49th Annual Meeting of the Association for Computational Linguistics: Human Language Technologies},\n",
              "      month     = {June},\n",
              "      year      = {2011},\n",
              "      address   = {Portland, Oregon, USA},\n",
              "      publisher = {Association for Computational Linguistics},\n",
              "      pages     = {142--150},\n",
              "      url       = {http://www.aclweb.org/anthology/P11-1015}\n",
              "    }\"\"\",\n",
              ")"
            ]
          },
          "metadata": {},
          "execution_count": 7
        }
      ]
    },
    {
      "cell_type": "code",
      "source": [
        "for x,y in dataset_train_original.shuffle(1000).take(1):\n",
        "  print(x.numpy().decode(\"utf-8\"))\n",
        "  print(y.numpy())"
      ],
      "metadata": {
        "colab": {
          "base_uri": "https://localhost:8080/"
        },
        "id": "CDZ_Dv8Aid5q",
        "outputId": "b64443c8-6d9e-4405-9bc2-c656cdc0bdf7"
      },
      "execution_count": null,
      "outputs": [
        {
          "output_type": "stream",
          "name": "stdout",
          "text": [
            "There is a bit of trivia which should be pointed out about a scene early in the movie where Homer watches the attempt of December 6, 1957 (at least that was the video used on the TV he was watching) which showed the Vangard launch attempt, which failed.<br /><br />He is next shown reading or dictating a letter to Dr. Von Braun offering condolences about the failure.<br /><br />Von Braun was at Marshall space flight center in Huntsville working for the Army. The Vanguard project was by the early Nasa team which was at what soon became Goddard Space flight center.<br /><br />The army rushed the Jupiter-C, which was essentially a US made V2 technology, but worked to launch a satellite in response to Russia's success with Sputnik.<br /><br />This error may have actually been made by Homer, because of the notoriety of Von Braun, but his team didn't have their attempt fail. In fact the underlying Redstone was flying from 52 and was the first US man rated booster, used for Shepard's sub orbital flight, as well as Grissom's.<br /><br />This is why this sort of movie is so good, as it hopefully will inspire people to read up and spot these bits of trivia, and in the process see what has been done, and be inspired to do more.\n",
            "1\n"
          ]
        }
      ]
    },
    {
      "cell_type": "code",
      "source": [
        "#Let's do a histogram of number of characters within the entire train sample\n",
        "lengths = []\n",
        "for x,_ in dataset_train_original:\n",
        "  x = x.numpy().decode(\"utf-8\")\n",
        "  lengths += [len(x)]\n",
        "plt.hist(lengths,bins=1000)\n",
        "plt.show()\n",
        "plt.close()"
      ],
      "metadata": {
        "colab": {
          "base_uri": "https://localhost:8080/",
          "height": 265
        },
        "id": "ld0mWYXCnn7p",
        "outputId": "92c15375-6ed7-4b02-9641-eb3856e1bb00"
      },
      "execution_count": null,
      "outputs": [
        {
          "output_type": "display_data",
          "data": {
            "text/plain": [
              "<Figure size 432x288 with 1 Axes>"
            ],
            "image/png": "[encoded data removed]"
          },
          "metadata": {
            "needs_background": "light"
          }
        }
      ]
    },
    {
      "cell_type": "code",
      "source": [
        "#Let's do a histogram of number of words within the entire train sample\n",
        "lengths = []\n",
        "for x,_ in dataset_train_original:\n",
        "  x = x.numpy().decode(\"utf-8\").split()\n",
        "  lengths += [len(x)]\n",
        "plt.hist(lengths,bins=100)\n",
        "plt.show()\n",
        "plt.close()"
      ],
      "metadata": {
        "colab": {
          "base_uri": "https://localhost:8080/",
          "height": 265
        },
        "id": "IHba-CjouDV2",
        "outputId": "3891cdfd-dcfe-40b1-92fb-ed46a4717d56"
      },
      "execution_count": null,
      "outputs": [
        {
          "output_type": "display_data",
          "data": {
            "text/plain": [
              "<Figure size 432x288 with 1 Axes>"
            ],
            "image/png": "[encoded data removed]"
          },
          "metadata": {
            "needs_background": "light"
          }
        }
      ]
    },
    {
      "cell_type": "code",
      "source": [
        "#Let's try a simple text encoding: bag of words\n",
        "vocabulary_size = 10_000\n",
        "encoder = layers.TextVectorization(\n",
        "    max_tokens = vocabulary_size, #this is the number of columns \n",
        "    standardize = \"lower_and_strip_punctuation\", #make everything lower case and\n",
        "    output_mode = \"multi_hot\" #this makes it a bag of words\n",
        ")\n",
        "encoder.adapt(dataset_train_original.map(lambda text,label: text).batch(2048)) #data includes x (text), y(label); mapping just romves the y and leaves x(text). Batching allows parallelization"
      ],
      "metadata": {
        "id": "qxYRWfxDkApL"
      },
      "execution_count": 10,
      "outputs": []
    },
    {
      "cell_type": "code",
      "source": [
        "encoder.get_vocabulary()[:10]\n",
        "# ['[UNK]', 'the', 'and', 'a', 'of', 'to', 'is', 'in', 'it', 'i']\n",
        "# here '[UNK]' stands for the unknown words, i.e., those among that did not make it to the most occuring $vocabulary_size words.\n",
        "# '[UNK]' is not counted, the rest of the words are sorted according to their occurrence counts"
      ],
      "metadata": {
        "colab": {
          "base_uri": "https://localhost:8080/"
        },
        "id": "sx6FpIpXnHpp",
        "outputId": "969c3676-cc61-4704-f2c8-e8c23f213fbf"
      },
      "execution_count": 11,
      "outputs": [
        {
          "output_type": "execute_result",
          "data": {
            "text/plain": [
              "['[UNK]', 'the', 'and', 'a', 'of', 'to', 'is', 'in', 'it', 'i']"
            ]
          },
          "metadata": {},
          "execution_count": 11
        }
      ]
    },
    {
      "cell_type": "code",
      "source": [
        "# An example of how this encoder (trained with IMDB reviews) would encode some random text \n",
        "text = 'Hello my dear friends! It is so great to be here today!'\n",
        "text_encoded = encoder(text)\n",
        "print(text_encoded)\n",
        "#This doesn't help: we see all "
      ],
      "metadata": {
        "colab": {
          "base_uri": "https://localhost:8080/"
        },
        "id": "zSMRVLAeutTs",
        "outputId": "7e0eed05-330f-4fe9-c654-4aa9bd379baf"
      },
      "execution_count": 12,
      "outputs": [
        {
          "output_type": "stream",
          "name": "stdout",
          "text": [
            "tf.Tensor([0. 0. 0. ... 0. 0. 0.], shape=(10000,), dtype=float32)\n"
          ]
        }
      ]
    },
    {
      "cell_type": "code",
      "source": [
        "def multi_hot_to_string(multi_hot):\n",
        "    s = \"\".join([str(int(x)) for x in multi_hot])\n",
        "    return s\n",
        "text_encoded = encoder(text).numpy()\n",
        "print(multi_hot_to_string(text_encoded))"
      ],
      "metadata": {
        "colab": {
          "base_uri": "https://localhost:8080/"
        },
        "id": "66TIFnkLx4es",
        "outputId": "c56bbc97-4f30-45f1-98af-82035215884a"
      },
      "execution_count": 13,
      "outputs": [
        {
          "output_type": "stream",
          "name": "stdout",
          "text": [
            "0000011010000000000000000001000000000100000000000000000100000000000000000000000000001000000000000000000000000000000000000000000000010000000000000000000000000000000000000000000000000000000000000000000000000000000000000000000000000000000000000000000000000000000000000000000000000000000000000000000000000000000000000000000000000000000000000001000000000000000000000000000000000000000000000000000000000000000000000000000000000000000000000000000000000000000000000000000000000000000000000000000000000000000000000000000000000000000000000000000000000000000000000000000000000000000000000000000000000000000000000000000000000000000000000000000000000000000100000000000000000000000000000000000000000000000000000000000000000000000000000000000000000000000000000000000000000000000000000000000000000000000000000000000000000000000000000000000000000000000000000000000000000000000000000000000000000000000000000000000000000000000000000000000000000000000000000000000000000000000000000000000000000000000000000000000000000000000000000000000000000000000000000000000000000000000000000000000000000000000000000000000000000000000000000000000000000000000000000000000000000000000000000000000000000000000000000000000000000000000000000000000000000000000000000000000000000000000000000000000000000000000000000000000000000000000000000000000000000000000000000000000000000000000000000000000000000000000000000000000000000000000000000000000000000000000000000000000000000000000000000000000000000000000000000000000000000000000000000000000000000000000000000000000000000000000000000000000000000000000000000000000000000000000000000000000000000000000000000000000000000000000000000000000000000000000000000000000000000000000000000000000000000000000000000000000000000000000000000000000000000000000000000000000000000000000000000000000000000000000000000000000000000000000000000000000000000000000000000000000000000000000000000000000000000000000000000000000000000000000000000000000000000000000000000000000000000000000000000000000000000000000000000000000000000000000000000000000000000000000000000000000000000000000000000000000000000000000000000000000000000000000000000000000000000000000000000000000000000000000000000000000000000000000000000000000000000000000000000000000000000000000000000000000000000000000000000000000000000000000000000000000000000000000000000000000000000000000000000000000000000000000000000000000000000000000000000000000000000000000000000000000000000000000000000000000000000000000000000000000000000000000000000000000000000000000000000000000000000000000000000000000000000000000000000000000000000000000000000000000000000000000000000000000000000000000000000000000000000000000000000000000000000000000000000000000000000000000000000000000000000000000000000000000000000000000000000000000000000000000000000000000000000000000000000000000000000000000000000000000000000000000000000000000000000000000000000000000000000000000000000000000000000000000000000000000000000000000000000000000000000000000000000000000000000000000000000000000000000000000000000000000000000000000000000000000000000000000000000000000000000000000000000000000000000000000000000000000000000000000000000000000000000000000000000000000000000000000000000000000000000000000000000000000000000000000000000000000000000000000000000000000000000000000000000000000000000001000000000000000000000000000000000000000000000000000000000000000000000000000000000000000000000000000000000000000000000000000000000000000000000000000000000000000000000000000000000000000000000000000000000000000000000000000000000000000000000000000000000000000000000000000000000000000000000000000000000000000000000000000000000000000000000000000000000000000000000000000000000000000000000000000000000000000000000000000000000000000000000000000000000000000000000000000000000000000000000000000000000000000000000000000000000000000000000000000000000000000000000000000000000000000000000000000000000000000000000000000000000000000000000000000000000000000000000000000000000000000000000000000000000000000000000000000000000000000000000000000000000000000000000000000000000000000000000000000000000000000000000000000000000000000000000000000000000000000000000000000000000000000000000000000000000000000000000000000000000000000000000000000000000000000000000000000000000000000000000000000000000000000000000000000000000000000000000000000000000000000000000000000000000000000000000000000000000000000000000000000000000000000000000000000000000000000000000000000000000000000000000000000000000000000000000000000000000000000000000000000000000000000000000000000000000000000000000000000000000000000000000000000000000000000000000000000000000000000000000000000000000000000000000000000000000000000000000000000000000000000000000000000000000000000000000000000000000000000000000000000000000000000000000000000000000000000000000000000000000000000000000000000000000000000000000000000000000000000000000000000000000000000000000000000000000000000000000000000000000000000000000000000000000000000000000000000000000000000000000000000000000000000000000000000000000000000000000000010000000000000000000000000000000000000000000000000000000000000000000000000000000000000000000000000000000000000000000000000000000000000000000000000000000000000000000000000000000000000000000000000000000000000000000000000000000000000000000000000000000000000000000000000000000000000000000000000000000000000000000000000000000000000000000000000000000000000000000000000000000000000000000000000000000000000000000000000000000000000000000000000000000000000000000000000000000000000000000000000000000000000000000000000000000000000000000000000000000000000000000000000000000000000000000000000000000000000000000000000000000000000000000000000000000000000000000000000000000000000000000000000000000000000000000000000000000000000000000000000000000000000000000000000000000000000000000000000000000000000000000000000000000000000000000000000000000000000000000000000000000000000000000000000000000000000000000000000000000000000000000000000000000000000000000000000000000000000000000000000000000000000000000000000000000000000000000000000000000000000000000000000000000000000000000000000000000000000000000000000000000000000000000000000000000000000000000000000000000000000000000000000000000000000000000000000000000000000000000000000000000000000000000000000000000000000000000000000000000000000000000000000000000000000000000000000000000000000000000000000000000000000000000000000000000000000000000000000000000000000000000000000000000000000000000000000000000000000000000000000000000000000000000000000000000000000000000000000000000000000000000000000000000000000000000000000000000000000000000000000000000000000000000000000000000000000000000000000000000000000000000000000000000000000000000000000000000000000000000000000000000000000000000000000000000000000000000000000000000000000000000000000000000000000000000000000000000000000000000000000000000000000000000000000000000000000000000000000000000000000000000000000000000000000000000000000000000000000000000000000000000000000000000000000000000000000000000000000000000000000000000000000000000000000000000000000000000000000000000000000000000000000000000000000000000000000000000000000000000000000000000000000000000000000000000000000000000000000000000000000000000000000000000000000000000000000000000000000000000000000000000000000000000000000000000000000000000000000000000000000000000000000000000000000000000000000000000000000000000000000000000000000000000000000000000000000000000000000000000000000000000000000000000000000000000000000000000000000000000000000000000000000000000000000000000000000000000000000000000000000000000000000000000000000000000000000000000000000000000000000000000000000000000000000000000000000000000000000000000000000000000000000000000000000000000000000000000000000000000000000000000000000000000000000000000000000000000000000000000000000000000000000000000000000000000000000000000000000000000000000000000000000000000000000000000000000000000000000000000000000000000000000000000000000000000000000000000000000000000000000000000000000000000000000000000000000000000000000000000000000000000000000000000000000000000000000000000000000000000000000000000000000000000000000000000000000000000000000000000000000000000000000000000000000000000000000000000000000000000000000000000000000000000000000000000000000000000000000000000000000000000000000000000000000000000000000000000000000000000000000000000000000000000000000000000000000000000000000000000000000000000000000000000000000000000000000000000000000000000000000000000000000000000000000000000000000000000000000000000000000000000000000000000000000000000000000000000000000000000000000000000000000000000000000000000000000000000000000000000000000000000000000000000000000000000000000000000000000000000000000000000000000000000000000000000000000000000000000000000000000000000000000000000000000000000000000000000000000000000000000000000000000000000000000000000000000000000000000000000000000000000000000000000000000000000000000000000000000000000000000000000000000000000000000000000000000000000000000000000000000000000000000000000000000000000000000000000000000000000000000000000000000000000000000000000000000000000000000000000000000000000000000000000000000000000000000000000000000000000000000000000000000000000000000000000000000000000000000000000000000000000000000000000000000000000000000000000000000000000000000000000000000000000000000000000000000000000000000000000000000000000000000000000000000000000000000000000000000000000000000000000000000000000000000000000000000000000000000000000000000000000000000000000000000000000000000000000000000000000000000000000000000000000000000000000000000000000000000000000000000000000000000000000000000000000000000000000000000000000000000000000000000000000000000000000000000000000000000000000000000000000000000000000000000000000000000000000000000000000000000000000000000000000000000000000000000000000000000000000000000000000000000000000000000000000000000000000000000000000000000000000000000000000000000000000000000000000000000000000000000000000000000000000000000000000000000000000000000000000000000000000000\n"
          ]
        }
      ]
    },
    {
      "cell_type": "code",
      "source": [
        "#do the opposite: get the tokens from text_encoded\n",
        "for i,num in enumerate(text_encoded):\n",
        "  if num == 1:\n",
        "    print(encoder.get_vocabulary()[i])"
      ],
      "metadata": {
        "colab": {
          "base_uri": "https://localhost:8080/"
        },
        "id": "Cspk0fx40RU7",
        "outputId": "89a06c1a-968c-4836-95e2-0b6c72751bf4"
      },
      "execution_count": 14,
      "outputs": [
        {
          "output_type": "stream",
          "name": "stdout",
          "text": [
            "to\n",
            "is\n",
            "it\n",
            "be\n",
            "so\n",
            "my\n",
            "great\n",
            "here\n",
            "friends\n",
            "today\n",
            "dear\n",
            "hello\n"
          ]
        }
      ]
    },
    {
      "cell_type": "code",
      "source": [
        "dataset_train = dataset_train_original.cache() #we want to have preprocessed data in quick access memory (they will be accesed multiple times , for each epoch)\n",
        "dataset_train = dataset_train.shuffle(25_000) #we don't want the model to learn the order (or overfit to the sequence)\n",
        "dataset_train = dataset_train.batch(128)\n",
        "\n",
        "dataset_validate = dataset_validate_original.cache()\n",
        "#no shuffling is needed here\n",
        "dataset_validate = dataset_validate.batch(128) #batching allows parallel computation, and speed up  \n",
        "\n",
        "dataset_test = dataset_test_original.batch(128) #again to speed up"
      ],
      "metadata": {
        "id": "crrJr29W1_GQ"
      },
      "execution_count": 21,
      "outputs": []
    },
    {
      "cell_type": "code",
      "source": [
        "model  = models.Sequential()\n",
        "model.add(encoder)\n",
        "model.add(layers.Dense(64,activation=\"relu\"))\n",
        "model.add(layers.Dense(1,activation=\"sigmoid\")) # output should be zero or one\n",
        "model.summary()\n"
      ],
      "metadata": {
        "colab": {
          "base_uri": "https://localhost:8080/"
        },
        "id": "WE2JnKD6UH-d",
        "outputId": "f992e91c-2515-428c-e942-22764f7f8819"
      },
      "execution_count": 16,
      "outputs": [
        {
          "output_type": "stream",
          "name": "stdout",
          "text": [
            "Model: \"sequential_1\"\n",
            "_________________________________________________________________\n",
            " Layer (type)                Output Shape              Param #   \n",
            "=================================================================\n",
            " text_vectorization_1 (TextV  (None, 10000)            0         \n",
            " ectorization)                                                   \n",
            "                                                                 \n",
            " dense_2 (Dense)             (None, 64)                640064    \n",
            "                                                                 \n",
            " dense_3 (Dense)             (None, 1)                 65        \n",
            "                                                                 \n",
            "=================================================================\n",
            "Total params: 640,129\n",
            "Trainable params: 640,129\n",
            "Non-trainable params: 0\n",
            "_________________________________________________________________\n"
          ]
        }
      ]
    },
    {
      "cell_type": "code",
      "source": [
        "model.compile(\n",
        "    optimizer = \"adam\",\n",
        "    loss = \"binary_crossentropy\",\n",
        "    metrics = [\"accuracy\"]\n",
        ")\n",
        "\n",
        "history = model.fit(\n",
        "    dataset_train,\n",
        "    epochs = 10,\n",
        "    validation_data=dataset_validate\n",
        ")"
      ],
      "metadata": {
        "colab": {
          "base_uri": "https://localhost:8080/"
        },
        "id": "U_2FA2gUVjDJ",
        "outputId": "fcdee243-ffb7-40c8-8860-973ea549b8f5"
      },
      "execution_count": 22,
      "outputs": [
        {
          "output_type": "stream",
          "name": "stdout",
          "text": [
            "Epoch 1/10\n",
            "196/196 [==============================] - 9s 39ms/step - loss: 0.3362 - accuracy: 0.8636 - val_loss: 0.2980 - val_accuracy: 0.8794\n",
            "Epoch 2/10\n",
            "196/196 [==============================] - 7s 34ms/step - loss: 0.1891 - accuracy: 0.9297 - val_loss: 0.3098 - val_accuracy: 0.8755\n",
            "Epoch 3/10\n",
            "196/196 [==============================] - 7s 34ms/step - loss: 0.1453 - accuracy: 0.9466 - val_loss: 0.3510 - val_accuracy: 0.8701\n",
            "Epoch 4/10\n",
            "196/196 [==============================] - 6s 33ms/step - loss: 0.1132 - accuracy: 0.9596 - val_loss: 0.4049 - val_accuracy: 0.8641\n",
            "Epoch 5/10\n",
            "196/196 [==============================] - 7s 33ms/step - loss: 0.0899 - accuracy: 0.9680 - val_loss: 0.4544 - val_accuracy: 0.8606\n",
            "Epoch 6/10\n",
            "196/196 [==============================] - 7s 33ms/step - loss: 0.0725 - accuracy: 0.9747 - val_loss: 0.5180 - val_accuracy: 0.8538\n",
            "Epoch 7/10\n",
            "196/196 [==============================] - 7s 33ms/step - loss: 0.0563 - accuracy: 0.9814 - val_loss: 0.5727 - val_accuracy: 0.8547\n",
            "Epoch 8/10\n",
            "196/196 [==============================] - 7s 33ms/step - loss: 0.0436 - accuracy: 0.9867 - val_loss: 0.6425 - val_accuracy: 0.8527\n",
            "Epoch 9/10\n",
            "196/196 [==============================] - 7s 33ms/step - loss: 0.0307 - accuracy: 0.9925 - val_loss: 0.6997 - val_accuracy: 0.8546\n",
            "Epoch 10/10\n",
            "196/196 [==============================] - 8s 41ms/step - loss: 0.0218 - accuracy: 0.9953 - val_loss: 0.7562 - val_accuracy: 0.8490\n"
          ]
        }
      ]
    },
    {
      "cell_type": "code",
      "source": [
        "def render_history(history):\n",
        "  plt.plot(history.history[\"loss\"],label=\"train\")\n",
        "  plt.plot(history.history[\"val_loss\"],label=\"val\")\n",
        "  plt.title(\"Loss\")\n",
        "  plt.legend()\n",
        "  plt.show()\n",
        "  plt.close()\n",
        "\n",
        "  plt.plot(history.history[\"accuracy\"],label=\"train\")\n",
        "  plt.plot(history.history[\"val_accuracy\"],label=\"val\")\n",
        "  plt.title(\"Accuracy\")\n",
        "  plt.legend()\n",
        "  plt.show()\n",
        "  plt.close()\n",
        "  pass\n",
        "\n",
        "render_history(history)\n"
      ],
      "metadata": {
        "colab": {
          "base_uri": "https://localhost:8080/",
          "height": 545
        },
        "id": "kxSc-WMbW34q",
        "outputId": "53621d49-649c-4b7c-887b-209ee620b64a"
      },
      "execution_count": 26,
      "outputs": [
        {
          "output_type": "display_data",
          "data": {
            "text/plain": [
              "<Figure size 432x288 with 1 Axes>"
            ],
            "image/png": "[encoded data removed]"
          },
          "metadata": {
            "needs_background": "light"
          }
        },
        {
          "output_type": "display_data",
          "data": {
            "text/plain": [
              "<Figure size 432x288 with 1 Axes>"
            ],
            "image/png": "[encoded data removed]"
          },
          "metadata": {
            "needs_background": "light"
          }
        }
      ]
    },
    {
      "cell_type": "code",
      "source": [],
      "metadata": {
        "id": "eE3u-kjUY-Mo"
      },
      "execution_count": null,
      "outputs": []
    }
  ]
}