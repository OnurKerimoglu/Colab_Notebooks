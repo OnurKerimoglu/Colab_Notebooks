{
  "nbformat": 4,
  "nbformat_minor": 0,
  "metadata": {
    "colab": {
      "provenance": [],
      "include_colab_link": true
    },
    "kernelspec": {
      "name": "python3",
      "display_name": "Python 3"
    },
    "language_info": {
      "name": "python"
    },
    "accelerator": "GPU",
    "gpuClass": "standard"
  },
  "cells": [
    {
      "cell_type": "markdown",
      "metadata": {
        "id": "view-in-github",
        "colab_type": "text"
      },
      "source": [
        "<a href=\"https://colab.research.google.com/github/OnurKerimoglu/Colab_Notebooks/blob/master/DSR_NLP5_Language_Generation.ipynb\" target=\"_parent\"><img src=\"https://colab.research.google.com/assets/colab-badge.svg\" alt=\"Open In Colab\"/></a>"
      ]
    },
    {
      "cell_type": "code",
      "execution_count": 24,
      "metadata": {
        "id": "-JegRfUe4OPQ"
      },
      "outputs": [],
      "source": [
        "import os\n",
        "import glob\n",
        "import random\n",
        "import shutil\n",
        "import tensorflow as tf\n",
        "from tensorflow.keras import preprocessing\n",
        "from tensorflow.keras import models, layers\n",
        "from tqdm import tqdm"
      ]
    },
    {
      "cell_type": "code",
      "source": [
        "from google.colab import drive\n",
        "drive.mount('/content/gdrive')\n",
        "\n",
        "!cp '/content/gdrive/My Drive/data/Dostoyevski_Crime_Punishment_cleaned.txt' Dostoyevski_Crime_Punishment_cleaned.txt\n",
        "!cp '/content/gdrive/My Drive/data/Dostoyevski_Karamazov_clean.txt' Dostoyevski_Karamazov_clean.txt\n",
        "!cp '/content/gdrive/My Drive/data/Dostoyevski_underground_clean.txt' Dostoyevski_underground_clean.txt\n",
        "\n",
        "#!ls -lh\n",
        "#!cp dataset/train/*txt dataset/all/"
      ],
      "metadata": {
        "colab": {
          "base_uri": "https://localhost:8080/"
        },
        "id": "9TmOm43FzNRM",
        "outputId": "02a2215d-c924-49f1-a3cf-3067c65af173"
      },
      "execution_count": 25,
      "outputs": [
        {
          "output_type": "stream",
          "name": "stdout",
          "text": [
            "Drive already mounted at /content/gdrive; to attempt to forcibly remount, call drive.mount(\"/content/gdrive\", force_remount=True).\n"
          ]
        }
      ]
    },
    {
      "cell_type": "code",
      "source": [
        "# Where the text files are going to live.\n",
        "dataset_path = \"dataset\"\n",
        "dataset_path_all = os.path.join(dataset_path, \"all\")\n",
        "dataset_path_train = os.path.join(dataset_path, \"train\")\n",
        "dataset_path_valid = os.path.join(dataset_path, \"valid\")\n",
        "\n",
        "#create folders\n",
        "for path in [dataset_path, dataset_path_all, dataset_path_train, dataset_path_valid]:\n",
        "  if not os.path.exists(path):\n",
        "    os.mkdir(path)\n",
        "\n",
        "#copy data\n",
        "def copy(paths, destination):\n",
        "  for path in paths:\n",
        "    shutil.copy2(path, destination)\n",
        "\n",
        "#!ls -lh\n",
        "paths_all = ['Dostoyevski_underground_clean.txt', 'Dostoyevski_Crime_Punishment_cleaned.txt', 'Dostoyevski_Karamazov_clean.txt']\n",
        "paths_train = ['Dostoyevski_Crime_Punishment_cleaned.txt', 'Dostoyevski_Karamazov_clean.txt']\n",
        "paths_valid = ['Dostoyevski_underground_clean.txt']\n",
        "copy(paths_all, dataset_path_all)\n",
        "copy(paths_train, dataset_path_train)\n",
        "copy(paths_valid, dataset_path_valid)\n",
        "\n",
        "!rm ./*.txt"
      ],
      "metadata": {
        "id": "j6F3Zo1PxJ1X"
      },
      "execution_count": 26,
      "outputs": []
    },
    {
      "cell_type": "code",
      "source": [
        "#!ls dataset\n",
        "#print(\"\")\n",
        "!ls dataset/all\n",
        "print(\"\")\n",
        "!ls dataset/train\n",
        "print(\"\")\n",
        "!ls dataset/valid"
      ],
      "metadata": {
        "id": "xNPibGnr4Y7d",
        "outputId": "b7319991-7bd6-4d4d-c762-eb260b9166df",
        "colab": {
          "base_uri": "https://localhost:8080/"
        }
      },
      "execution_count": 27,
      "outputs": [
        {
          "output_type": "stream",
          "name": "stdout",
          "text": [
            "Dostoyevski_Crime_Punishment_cleaned.txt  Dostoyevski_underground_clean.txt\n",
            "Dostoyevski_Karamazov_clean.txt\n",
            "\n",
            "Dostoyevski_Crime_Punishment_cleaned.txt  Dostoyevski_Karamazov_clean.txt\n",
            "\n",
            "Dostoyevski_underground_clean.txt\n"
          ]
        }
      ]
    },
    {
      "cell_type": "code",
      "source": [
        "batch_size = 32\n",
        "seed = 42\n",
        "\n",
        "def create_dataset(dataset_path):\n",
        "  dataset = preprocessing.text_dataset_from_directory(\n",
        "      dataset_path,\n",
        "      labels = None,\n",
        "      batch_size = batch_size,\n",
        "      seed = seed\n",
        "  )\n",
        "  return dataset\n",
        "\n",
        "dataset_original_all = create_dataset(dataset_path_all)\n",
        "dataset_original_train = create_dataset(dataset_path_train)\n",
        "dataset_original_valid = create_dataset(dataset_path_valid)"
      ],
      "metadata": {
        "id": "kDRW9cNT4aRZ",
        "outputId": "81d541b5-2fd8-470a-fdf3-e40bf73a6c96",
        "colab": {
          "base_uri": "https://localhost:8080/"
        }
      },
      "execution_count": 28,
      "outputs": [
        {
          "output_type": "stream",
          "name": "stdout",
          "text": [
            "Found 3 files belonging to 1 classes.\n",
            "Found 2 files belonging to 1 classes.\n",
            "Found 1 files belonging to 1 classes.\n"
          ]
        }
      ]
    },
    {
      "cell_type": "code",
      "source": [
        "#for books in dataset_original_all.take(1):\n",
        "#  print(books)"
      ],
      "metadata": {
        "id": "AkXWcyfWGD4w"
      },
      "execution_count": 29,
      "outputs": []
    },
    {
      "cell_type": "code",
      "source": [
        "#to have no unknowns in the vocabulary, determine the vocabulary_size from what is available\n",
        "encoder = layers.TextVectorization(\n",
        "    max_tokens = None,\n",
        "    standardize = 'lower', #_and_strip_punctuation', #try includig punctuation later\n",
        "    split = \"whitespace\",\n",
        "    output_mode = \"int\"\n",
        ")\n",
        "\n",
        "encoder.adapt(dataset_original_all)\n",
        "\n",
        "vocabulary = encoder.get_vocabulary()\n",
        "vocabulary_size = len(vocabulary)\n",
        "print(f'length of the vocabulary:{len(vocabulary)}')\n",
        "#print(vocabulary[:200])"
      ],
      "metadata": {
        "id": "-sDqHbAYvdN4",
        "colab": {
          "base_uri": "https://localhost:8080/"
        },
        "outputId": "a6667f47-64b7-49fd-a74d-2f72b65a8d89"
      },
      "execution_count": 30,
      "outputs": [
        {
          "output_type": "stream",
          "name": "stdout",
          "text": [
            "length of the vocabulary:40405\n"
          ]
        }
      ]
    },
    {
      "cell_type": "code",
      "source": [
        "sequence_length = 32\n",
        "\n",
        "def create_dataset_for_autoregression(dataset):\n",
        "  x_inputs = []\n",
        "  y_outputs = []\n",
        "\n",
        "  padding_token_id = vocabulary.index(\"\") #0\n",
        "\n",
        "  for books in dataset:\n",
        "    booksT = encoder(books) #this is tf.Tensor of word encodings (indices)\n",
        "    books = booksT.numpy() #we need numpy \n",
        "    \n",
        "    for book in tqdm(books): #this is just to have a progress indicator\n",
        "      \n",
        "      #we put some empty sequence so that the very first tokens (words) can be predicted too\n",
        "      padding = [padding_token_id] * sequence_length\n",
        "      #print(padding)\n",
        "      book = padding + list(book)\n",
        "      \n",
        "      for start_index in range(0, len(book)-sequence_length):\n",
        "        x = book[start_index:start_index + sequence_length]\n",
        "        y = book[start_index + sequence_length]\n",
        "\n",
        "        if y == padding_token_id: #i.e., when we hit the end of the book (there is one padding token at the beginning and one at the end)\n",
        "          break\n",
        "\n",
        "        x_inputs += [x]\n",
        "        y_outputs += [y]\n",
        "\n",
        "  print(\"Finished\")\n",
        "  print(len(x_inputs),len(y_outputs))\n",
        "  return tf.data.Dataset.from_tensor_slices((x_inputs,y_outputs))\n",
        "\n",
        "dataset_all = create_dataset_for_autoregression(dataset_original_all)\n",
        "dataset_train = create_dataset_for_autoregression(dataset_original_train)\n",
        "dataset_valid = create_dataset_for_autoregression(dataset_original_valid)"
      ],
      "metadata": {
        "id": "GaV8d9IBIrDT",
        "outputId": "3bc21c59-003f-49d6-a09c-7f97ea96447c",
        "colab": {
          "base_uri": "https://localhost:8080/"
        }
      },
      "execution_count": 31,
      "outputs": [
        {
          "output_type": "stream",
          "name": "stderr",
          "text": [
            "100%|██████████| 3/3 [00:02<00:00,  1.12it/s]\n"
          ]
        },
        {
          "output_type": "stream",
          "name": "stdout",
          "text": [
            "Finished\n",
            "605566 605566\n"
          ]
        },
        {
          "output_type": "stream",
          "name": "stderr",
          "text": [
            "100%|██████████| 2/2 [00:01<00:00,  1.00it/s]\n"
          ]
        },
        {
          "output_type": "stream",
          "name": "stdout",
          "text": [
            "Finished\n",
            "558723 558723\n"
          ]
        },
        {
          "output_type": "stream",
          "name": "stderr",
          "text": [
            "100%|██████████| 1/1 [00:00<00:00, 17.66it/s]\n"
          ]
        },
        {
          "output_type": "stream",
          "name": "stdout",
          "text": [
            "Finished\n",
            "46843 46843\n"
          ]
        }
      ]
    },
    {
      "cell_type": "code",
      "source": [
        "# for x,y in dataset_all.take(34):\n",
        "#   print(x.numpy())\n",
        "#   print(y.numpy())\n",
        "#   print(\"\")"
      ],
      "metadata": {
        "id": "PsA1yL1Ig_XP"
      },
      "execution_count": 32,
      "outputs": []
    },
    {
      "cell_type": "code",
      "source": [
        "import matplotlib.pyplot as plt\n",
        "\n",
        "def render_history(history):\n",
        "    plt.title(\"Training loss vs. validation loss\")\n",
        "    plt.plot(history.history[\"loss\"], label=\"loss\")\n",
        "    plt.plot(history.history[\"val_loss\"], label=\"val_loss\")\n",
        "    plt.legend()\n",
        "    plt.show()\n",
        "    plt.close()\n",
        "\n",
        "    plt.title(\"Training accuracy vs. validation accuracy\")\n",
        "    plt.plot(history.history[\"accuracy\"], label=\"accuracy\")\n",
        "    plt.plot(history.history[\"val_accuracy\"], label=\"val_accuracy\")\n",
        "    plt.legend()\n",
        "    plt.show()\n",
        "    plt.close()"
      ],
      "metadata": {
        "id": "oIxIViGeDqSf"
      },
      "execution_count": 33,
      "outputs": []
    },
    {
      "cell_type": "code",
      "source": [
        "embedding_size = 128\n",
        "\n",
        "model = models.Sequential()\n",
        "model.add(layers.Embedding(vocabulary_size,embedding_size,input_length=sequence_length)) #vocsize*embeddingsize=size of the lookup table \n",
        "#model.add(layers.LSTM(512))\n",
        "model.add(layers.GRU(256)) #this is faster but a bit less accurate than LSTM\n",
        "model.add(layers.Dense(vocabulary_size,activation=\"softmax\")) #we are predicting a word in the vocabulary, so we need a probability distribution across the vocabulary\n",
        "model.summary()\n",
        "\n",
        "model.compile(\n",
        "    optimizer = 'adam',\n",
        "    loss = \"sparse_categorical_crossentropy\",\n",
        "    metrics = [\"accuracy\"]\n",
        ")\n",
        "\n",
        "history = model.fit(\n",
        "    dataset_train.cache().shuffle(90000).batch(512),\n",
        "    validation_data = dataset_valid.cache().batch(512),\n",
        "    epochs = 5\n",
        ")\n",
        "render_history(history)"
      ],
      "metadata": {
        "id": "eziFgvRKoPJB",
        "outputId": "d22b3e90-565d-4d45-f25b-6ec3314786c0",
        "colab": {
          "base_uri": "https://localhost:8080/",
          "height": 979
        }
      },
      "execution_count": 35,
      "outputs": [
        {
          "output_type": "stream",
          "name": "stdout",
          "text": [
            "Model: \"sequential_2\"\n",
            "_________________________________________________________________\n",
            " Layer (type)                Output Shape              Param #   \n",
            "=================================================================\n",
            " embedding_2 (Embedding)     (None, 32, 128)           5171840   \n",
            "                                                                 \n",
            " gru_1 (GRU)                 (None, 256)               296448    \n",
            "                                                                 \n",
            " dense_2 (Dense)             (None, 40405)             10384085  \n",
            "                                                                 \n",
            "=================================================================\n",
            "Total params: 15,852,373\n",
            "Trainable params: 15,852,373\n",
            "Non-trainable params: 0\n",
            "_________________________________________________________________\n",
            "Epoch 1/5\n",
            "1092/1092 [==============================] - 2270s 2s/step - loss: 7.2635 - accuracy: 0.0559 - val_loss: 6.6275 - val_accuracy: 0.1002\n",
            "Epoch 2/5\n",
            "1092/1092 [==============================] - 2122s 2s/step - loss: 5.9833 - accuracy: 0.1339 - val_loss: 6.1418 - val_accuracy: 0.1427\n",
            "Epoch 3/5\n",
            "1092/1092 [==============================] - 2075s 2s/step - loss: 5.3692 - accuracy: 0.1627 - val_loss: 6.0305 - val_accuracy: 0.1612\n",
            "Epoch 4/5\n",
            "1092/1092 [==============================] - 2142s 2s/step - loss: 4.9180 - accuracy: 0.1829 - val_loss: 6.0303 - val_accuracy: 0.1701\n",
            "Epoch 5/5\n",
            "1092/1092 [==============================] - 2105s 2s/step - loss: 4.5315 - accuracy: 0.2014 - val_loss: 6.0798 - val_accuracy: 0.1773\n"
          ]
        },
        {
          "output_type": "display_data",
          "data": {
            "text/plain": [
              "<Figure size 432x288 with 1 Axes>"
            ],
            "image/png": "[encoded data removed]"
          },
          "metadata": {
            "needs_background": "light"
          }
        },
        {
          "output_type": "display_data",
          "data": {
            "text/plain": [
              "<Figure size 432x288 with 1 Axes>"
            ],
            "image/png": "[encoded data removed]"
          },
          "metadata": {
            "needs_background": "light"
          }
        }
      ]
    },
    {
      "cell_type": "code",
      "source": [
        "history = model.fit(\n",
        "    dataset_train.cache().shuffle(90000).batch(512),\n",
        "    validation_data = dataset_valid.cache().batch(512),\n",
        "    epochs = 3\n",
        ")\n",
        "render_history(history)"
      ],
      "metadata": {
        "id": "3HhjI6Mzqlde"
      },
      "execution_count": null,
      "outputs": []
    },
    {
      "cell_type": "code",
      "source": [
        "# Save the entire model as a SavedModel.\n",
        "#from google.colab import drive\n",
        "#drive.mount('/content/gdrive')\n",
        "#model_save_path ='saved_models/Dostoyevski_GRU_221028' \n",
        "\n",
        "#!mkdir -p saved_models\n",
        "#model.save(model_save_path)\n",
        "\n",
        "!cp -r saved_models '/content/gdrive/My Drive/'\n"
      ],
      "metadata": {
        "id": "LEIPW9lDnE8Z"
      },
      "execution_count": 58,
      "outputs": []
    },
    {
      "cell_type": "code",
      "source": [
        "#Load previously saved model\n",
        "\n",
        "#drive.mount('/content/gdrive')\n",
        "model_save_path ='saved_models2/Dostoyevski_GRU_221028' \n",
        "\n",
        "#!mkdir -p saved_models2\n",
        "#!cp -r \"/content/gdrive/My Drive/$model_save_path\" saved_models2/\n",
        "\n",
        "\n",
        "model2 = tf.keras.models.load_model(model_save_path)\n",
        "\n",
        "# Check its architecture\n",
        "model2.summary()"
      ],
      "metadata": {
        "colab": {
          "base_uri": "https://localhost:8080/"
        },
        "id": "51QP_G1hnJN6",
        "outputId": "8ad6736e-aeec-4c50-aef2-50c2b0d39183"
      },
      "execution_count": 61,
      "outputs": [
        {
          "output_type": "stream",
          "name": "stdout",
          "text": [
            "Model: \"sequential_2\"\n",
            "_________________________________________________________________\n",
            " Layer (type)                Output Shape              Param #   \n",
            "=================================================================\n",
            " embedding_2 (Embedding)     (None, 32, 128)           5171840   \n",
            "                                                                 \n",
            " gru_1 (GRU)                 (None, 256)               296448    \n",
            "                                                                 \n",
            " dense_2 (Dense)             (None, 40405)             10384085  \n",
            "                                                                 \n",
            "=================================================================\n",
            "Total params: 15,852,373\n",
            "Trainable params: 15,852,373\n",
            "Non-trainable params: 0\n",
            "_________________________________________________________________\n"
          ]
        }
      ]
    },
    {
      "cell_type": "code",
      "source": [],
      "metadata": {
        "colab": {
          "base_uri": "https://localhost:8080/",
          "height": 204
        },
        "id": "hVP8Mn5wnNL1",
        "outputId": "d6474cb6-52a0-417a-ffee-d44ad41ada4e"
      },
      "execution_count": 62,
      "outputs": [
        {
          "output_type": "error",
          "ename": "TypeError",
          "evalue": "ignored",
          "traceback": [
            "\u001b[0;31m---------------------------------------------------------------------------\u001b[0m",
            "\u001b[0;31mTypeError\u001b[0m                                 Traceback (most recent call last)",
            "\u001b[0;32m<ipython-input-62-01c59dd3674c>\u001b[0m in \u001b[0;36m<module>\u001b[0;34m\u001b[0m\n\u001b[1;32m      1\u001b[0m \u001b[0;31m# Evaluate the restored model\u001b[0m\u001b[0;34m\u001b[0m\u001b[0;34m\u001b[0m\u001b[0;34m\u001b[0m\u001b[0m\n\u001b[0;32m----> 2\u001b[0;31m \u001b[0mloss\u001b[0m\u001b[0;34m,\u001b[0m \u001b[0macc\u001b[0m \u001b[0;34m=\u001b[0m \u001b[0mmodel2\u001b[0m\u001b[0;34m.\u001b[0m\u001b[0mevaluate\u001b[0m\u001b[0;34m(\u001b[0m\u001b[0mdataset_valid\u001b[0m\u001b[0;34m[\u001b[0m\u001b[0;36m0\u001b[0m\u001b[0;34m]\u001b[0m\u001b[0;34m,\u001b[0m \u001b[0mdataset_valid\u001b[0m\u001b[0;34m[\u001b[0m\u001b[0;36m1\u001b[0m\u001b[0;34m]\u001b[0m\u001b[0;34m,\u001b[0m \u001b[0mverbose\u001b[0m\u001b[0;34m=\u001b[0m\u001b[0;36m2\u001b[0m\u001b[0;34m)\u001b[0m\u001b[0;34m\u001b[0m\u001b[0;34m\u001b[0m\u001b[0m\n\u001b[0m\u001b[1;32m      3\u001b[0m \u001b[0mprint\u001b[0m\u001b[0;34m(\u001b[0m\u001b[0;34m'Restored model, accuracy: {:5.2f}%'\u001b[0m\u001b[0;34m.\u001b[0m\u001b[0mformat\u001b[0m\u001b[0;34m(\u001b[0m\u001b[0;36m100\u001b[0m \u001b[0;34m*\u001b[0m \u001b[0macc\u001b[0m\u001b[0;34m)\u001b[0m\u001b[0;34m)\u001b[0m\u001b[0;34m\u001b[0m\u001b[0;34m\u001b[0m\u001b[0m\n",
            "\u001b[0;31mTypeError\u001b[0m: 'TensorSliceDataset' object is not subscriptable"
          ]
        }
      ]
    },
    {
      "cell_type": "code",
      "source": [
        "import numpy as np\n",
        "def decode(indices):\n",
        "    return \" \".join([vocabulary[index] for index in indices if vocabulary[index] is not \"\"])\n",
        "def generate(model, seed_text, generated_sequence_length, temperature):\n",
        "\n",
        "    input_sequence = encoder(seed_text).numpy()\n",
        "\n",
        "    generated_sequence = list(input_sequence[::])\n",
        "\n",
        "    # Pad.\n",
        "    padding = [0] * (sequence_length - len(input_sequence))\n",
        "    input_sequence = padding + list(input_sequence)\n",
        "\n",
        "    # Generate the sequence by repeatedly predicting.\n",
        "    while len(generated_sequence) < generated_sequence_length:\n",
        "        prediction = model.predict(np.expand_dims(input_sequence, axis=0))\n",
        "        predicted_index = get_index_from_prediction(prediction[0], temperature)\n",
        "        generated_sequence.append(predicted_index)\n",
        "        input_sequence = input_sequence[1:]\n",
        "        input_sequence.append(predicted_index)\n",
        "\n",
        "    # Convert the generated sequence to a string.\n",
        "    text = decode(generated_sequence)\n",
        "    print(text)\n",
        "    print(\"\")\n",
        "\n",
        "        \n",
        "def get_index_from_prediction(prediction, temperature=0.0):\n",
        "    \"\"\" Gets an index from a prediction. \"\"\"\n",
        "\n",
        "    # Zero temperature - use the argmax.\n",
        "    if temperature == 0.0:\n",
        "        return np.argmax(prediction)\n",
        "\n",
        "    # Non-zero temperature - do some random magic.\n",
        "    else:\n",
        "        prediction = np.asarray(prediction).astype('float64')\n",
        "        prediction = np.log(prediction) / temperature\n",
        "        exp_prediction= np.exp(prediction)\n",
        "        prediction = exp_prediction / np.sum(exp_prediction)\n",
        "        probabilities = np.random.multinomial(1, prediction, 1)\n",
        "        return np.argmax(probabilities)\n",
        "  \n",
        "generate(model2, \"He could not believe what he saw.\", 100, temperature=1.0)"
      ],
      "metadata": {
        "id": "ZkycWO0etdrc",
        "outputId": "8f8c773c-244a-4662-ac88-cbb6e2db8154",
        "colab": {
          "base_uri": "https://localhost:8080/"
        }
      },
      "execution_count": 64,
      "outputs": [
        {
          "output_type": "stream",
          "name": "stdout",
          "text": [
            "1/1 [==============================] - 0s 36ms/step\n",
            "1/1 [==============================] - 0s 35ms/step\n",
            "1/1 [==============================] - 0s 35ms/step\n",
            "1/1 [==============================] - 0s 43ms/step\n",
            "1/1 [==============================] - 0s 37ms/step\n",
            "1/1 [==============================] - 0s 36ms/step\n",
            "1/1 [==============================] - 0s 36ms/step\n",
            "1/1 [==============================] - 0s 44ms/step\n",
            "1/1 [==============================] - 0s 35ms/step\n",
            "1/1 [==============================] - 0s 38ms/step\n",
            "1/1 [==============================] - 0s 44ms/step\n",
            "1/1 [==============================] - 0s 38ms/step\n",
            "1/1 [==============================] - 0s 42ms/step\n",
            "1/1 [==============================] - 0s 50ms/step\n",
            "1/1 [==============================] - 0s 37ms/step\n",
            "1/1 [==============================] - 0s 34ms/step\n",
            "1/1 [==============================] - 0s 37ms/step\n",
            "1/1 [==============================] - 0s 36ms/step\n",
            "1/1 [==============================] - 0s 49ms/step\n",
            "1/1 [==============================] - 0s 36ms/step\n",
            "1/1 [==============================] - 0s 35ms/step\n",
            "1/1 [==============================] - 0s 33ms/step\n",
            "1/1 [==============================] - 0s 41ms/step\n",
            "1/1 [==============================] - 0s 35ms/step\n",
            "1/1 [==============================] - 0s 36ms/step\n",
            "1/1 [==============================] - 0s 35ms/step\n",
            "1/1 [==============================] - 0s 30ms/step\n",
            "1/1 [==============================] - 0s 29ms/step\n",
            "1/1 [==============================] - 0s 26ms/step\n",
            "1/1 [==============================] - 0s 27ms/step\n",
            "1/1 [==============================] - 0s 27ms/step\n",
            "1/1 [==============================] - 0s 26ms/step\n",
            "1/1 [==============================] - 0s 28ms/step\n",
            "1/1 [==============================] - 0s 26ms/step\n",
            "1/1 [==============================] - 0s 30ms/step\n",
            "1/1 [==============================] - 0s 32ms/step\n",
            "1/1 [==============================] - 0s 26ms/step\n",
            "1/1 [==============================] - 0s 29ms/step\n",
            "1/1 [==============================] - 0s 29ms/step\n",
            "1/1 [==============================] - 0s 31ms/step\n",
            "1/1 [==============================] - 0s 28ms/step\n",
            "1/1 [==============================] - 0s 29ms/step\n",
            "1/1 [==============================] - 0s 31ms/step\n",
            "1/1 [==============================] - 0s 26ms/step\n",
            "1/1 [==============================] - 0s 29ms/step\n",
            "1/1 [==============================] - 0s 28ms/step\n",
            "1/1 [==============================] - 0s 26ms/step\n",
            "1/1 [==============================] - 0s 28ms/step\n",
            "1/1 [==============================] - 0s 27ms/step\n",
            "1/1 [==============================] - 0s 28ms/step\n",
            "1/1 [==============================] - 0s 26ms/step\n",
            "1/1 [==============================] - 0s 26ms/step\n",
            "1/1 [==============================] - 0s 32ms/step\n",
            "1/1 [==============================] - 0s 27ms/step\n",
            "1/1 [==============================] - 0s 36ms/step\n",
            "1/1 [==============================] - 0s 34ms/step\n",
            "1/1 [==============================] - 0s 41ms/step\n",
            "1/1 [==============================] - 0s 40ms/step\n",
            "1/1 [==============================] - 0s 38ms/step\n",
            "1/1 [==============================] - 0s 33ms/step\n",
            "1/1 [==============================] - 0s 35ms/step\n",
            "1/1 [==============================] - 0s 34ms/step\n",
            "1/1 [==============================] - 0s 38ms/step\n",
            "1/1 [==============================] - 0s 35ms/step\n",
            "1/1 [==============================] - 0s 33ms/step\n",
            "1/1 [==============================] - 0s 29ms/step\n",
            "1/1 [==============================] - 0s 25ms/step\n",
            "1/1 [==============================] - 0s 27ms/step\n",
            "1/1 [==============================] - 0s 27ms/step\n",
            "1/1 [==============================] - 0s 30ms/step\n",
            "1/1 [==============================] - 0s 32ms/step\n",
            "1/1 [==============================] - 0s 27ms/step\n",
            "1/1 [==============================] - 0s 31ms/step\n",
            "1/1 [==============================] - 0s 29ms/step\n",
            "1/1 [==============================] - 0s 30ms/step\n",
            "1/1 [==============================] - 0s 24ms/step\n",
            "1/1 [==============================] - 0s 27ms/step\n",
            "1/1 [==============================] - 0s 29ms/step\n",
            "1/1 [==============================] - 0s 27ms/step\n",
            "1/1 [==============================] - 0s 28ms/step\n",
            "1/1 [==============================] - 0s 30ms/step\n",
            "1/1 [==============================] - 0s 28ms/step\n",
            "1/1 [==============================] - 0s 28ms/step\n",
            "1/1 [==============================] - 0s 28ms/step\n",
            "1/1 [==============================] - 0s 27ms/step\n",
            "1/1 [==============================] - 0s 25ms/step\n",
            "1/1 [==============================] - 0s 28ms/step\n",
            "1/1 [==============================] - 0s 29ms/step\n",
            "1/1 [==============================] - 0s 30ms/step\n",
            "1/1 [==============================] - 0s 32ms/step\n",
            "1/1 [==============================] - 0s 26ms/step\n",
            "1/1 [==============================] - 0s 26ms/step\n",
            "1/1 [==============================] - 0s 27ms/step\n",
            "he could not believe what he saw. did he exclaim it ground he sat to look again. but the man had found beating; he would hardly endure the murderer. he sank back quickly and accidentally, as the murderer. when alyosha told another he remembers it all too clearly, for the signals the arrangement in the evening and seemed to touch the bread a glass of the house, and there was the little bag in the work for, while it were come in. and so that he did not burn grushenka. “the sense is worth what some, since that person?” it\n",
            "\n"
          ]
        }
      ]
    },
    {
      "cell_type": "code",
      "source": [],
      "metadata": {
        "id": "nt8VHw5fsFWZ"
      },
      "execution_count": null,
      "outputs": []
    }
  ]
}