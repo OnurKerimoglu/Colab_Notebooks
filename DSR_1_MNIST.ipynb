{
  "nbformat": 4,
  "nbformat_minor": 0,
  "metadata": {
    "colab": {
      "provenance": [],
      "collapsed_sections": [],
      "toc_visible": true,
      "authorship_tag": "ABX9TyNGuAzc5YY/9ZrFwTg3wXqj",
      "include_colab_link": true
    },
    "kernelspec": {
      "name": "python3",
      "display_name": "Python 3"
    },
    "language_info": {
      "name": "python"
    },
    "accelerator": "GPU",
    "widgets": {
      "application/vnd.jupyter.widget-state+json": {
        "22e54b0d1861461bb63cb26ac5c99047": {
          "model_module": "@jupyter-widgets/controls",
          "model_name": "HBoxModel",
          "model_module_version": "1.5.0",
          "state": {
            "_dom_classes": [],
            "_model_module": "@jupyter-widgets/controls",
            "_model_module_version": "1.5.0",
            "_model_name": "HBoxModel",
            "_view_count": null,
            "_view_module": "@jupyter-widgets/controls",
            "_view_module_version": "1.5.0",
            "_view_name": "HBoxView",
            "box_style": "",
            "children": [
              "IPY_MODEL_35d3b2619ab34b59aed62c2cd87e5eda",
              "IPY_MODEL_5f5b508b061d429aa03442f923ed1624",
              "IPY_MODEL_940e562fa32e43e5890d21ea20e27d5d"
            ],
            "layout": "IPY_MODEL_1efa51634bcb40f9a0c19aeb4e65fdee"
          }
        },
        "35d3b2619ab34b59aed62c2cd87e5eda": {
          "model_module": "@jupyter-widgets/controls",
          "model_name": "HTMLModel",
          "model_module_version": "1.5.0",
          "state": {
            "_dom_classes": [],
            "_model_module": "@jupyter-widgets/controls",
            "_model_module_version": "1.5.0",
            "_model_name": "HTMLModel",
            "_view_count": null,
            "_view_module": "@jupyter-widgets/controls",
            "_view_module_version": "1.5.0",
            "_view_name": "HTMLView",
            "description": "",
            "description_tooltip": null,
            "layout": "IPY_MODEL_5d8725f254e64bb3b49324d2086728ea",
            "placeholder": "​",
            "style": "IPY_MODEL_9998f2d2adb64cce9b301796cde02b6c",
            "value": "Dl Completed...: 100%"
          }
        },
        "5f5b508b061d429aa03442f923ed1624": {
          "model_module": "@jupyter-widgets/controls",
          "model_name": "FloatProgressModel",
          "model_module_version": "1.5.0",
          "state": {
            "_dom_classes": [],
            "_model_module": "@jupyter-widgets/controls",
            "_model_module_version": "1.5.0",
            "_model_name": "FloatProgressModel",
            "_view_count": null,
            "_view_module": "@jupyter-widgets/controls",
            "_view_module_version": "1.5.0",
            "_view_name": "ProgressView",
            "bar_style": "success",
            "description": "",
            "description_tooltip": null,
            "layout": "IPY_MODEL_3b540d6fdfe447b09947c3a01674584f",
            "max": 4,
            "min": 0,
            "orientation": "horizontal",
            "style": "IPY_MODEL_69186430028040adb9b7c6752c440c46",
            "value": 4
          }
        },
        "940e562fa32e43e5890d21ea20e27d5d": {
          "model_module": "@jupyter-widgets/controls",
          "model_name": "HTMLModel",
          "model_module_version": "1.5.0",
          "state": {
            "_dom_classes": [],
            "_model_module": "@jupyter-widgets/controls",
            "_model_module_version": "1.5.0",
            "_model_name": "HTMLModel",
            "_view_count": null,
            "_view_module": "@jupyter-widgets/controls",
            "_view_module_version": "1.5.0",
            "_view_name": "HTMLView",
            "description": "",
            "description_tooltip": null,
            "layout": "IPY_MODEL_8798f2b7dd284577afa963c84bd3a097",
            "placeholder": "​",
            "style": "IPY_MODEL_315eac2aedb341ea9f593759183a9bf8",
            "value": " 4/4 [00:00&lt;00:00,  5.92 file/s]"
          }
        },
        "1efa51634bcb40f9a0c19aeb4e65fdee": {
          "model_module": "@jupyter-widgets/base",
          "model_name": "LayoutModel",
          "model_module_version": "1.2.0",
          "state": {
            "_model_module": "@jupyter-widgets/base",
            "_model_module_version": "1.2.0",
            "_model_name": "LayoutModel",
            "_view_count": null,
            "_view_module": "@jupyter-widgets/base",
            "_view_module_version": "1.2.0",
            "_view_name": "LayoutView",
            "align_content": null,
            "align_items": null,
            "align_self": null,
            "border": null,
            "bottom": null,
            "display": null,
            "flex": null,
            "flex_flow": null,
            "grid_area": null,
            "grid_auto_columns": null,
            "grid_auto_flow": null,
            "grid_auto_rows": null,
            "grid_column": null,
            "grid_gap": null,
            "grid_row": null,
            "grid_template_areas": null,
            "grid_template_columns": null,
            "grid_template_rows": null,
            "height": null,
            "justify_content": null,
            "justify_items": null,
            "left": null,
            "margin": null,
            "max_height": null,
            "max_width": null,
            "min_height": null,
            "min_width": null,
            "object_fit": null,
            "object_position": null,
            "order": null,
            "overflow": null,
            "overflow_x": null,
            "overflow_y": null,
            "padding": null,
            "right": null,
            "top": null,
            "visibility": null,
            "width": null
          }
        },
        "5d8725f254e64bb3b49324d2086728ea": {
          "model_module": "@jupyter-widgets/base",
          "model_name": "LayoutModel",
          "model_module_version": "1.2.0",
          "state": {
            "_model_module": "@jupyter-widgets/base",
            "_model_module_version": "1.2.0",
            "_model_name": "LayoutModel",
            "_view_count": null,
            "_view_module": "@jupyter-widgets/base",
            "_view_module_version": "1.2.0",
            "_view_name": "LayoutView",
            "align_content": null,
            "align_items": null,
            "align_self": null,
            "border": null,
            "bottom": null,
            "display": null,
            "flex": null,
            "flex_flow": null,
            "grid_area": null,
            "grid_auto_columns": null,
            "grid_auto_flow": null,
            "grid_auto_rows": null,
            "grid_column": null,
            "grid_gap": null,
            "grid_row": null,
            "grid_template_areas": null,
            "grid_template_columns": null,
            "grid_template_rows": null,
            "height": null,
            "justify_content": null,
            "justify_items": null,
            "left": null,
            "margin": null,
            "max_height": null,
            "max_width": null,
            "min_height": null,
            "min_width": null,
            "object_fit": null,
            "object_position": null,
            "order": null,
            "overflow": null,
            "overflow_x": null,
            "overflow_y": null,
            "padding": null,
            "right": null,
            "top": null,
            "visibility": null,
            "width": null
          }
        },
        "9998f2d2adb64cce9b301796cde02b6c": {
          "model_module": "@jupyter-widgets/controls",
          "model_name": "DescriptionStyleModel",
          "model_module_version": "1.5.0",
          "state": {
            "_model_module": "@jupyter-widgets/controls",
            "_model_module_version": "1.5.0",
            "_model_name": "DescriptionStyleModel",
            "_view_count": null,
            "_view_module": "@jupyter-widgets/base",
            "_view_module_version": "1.2.0",
            "_view_name": "StyleView",
            "description_width": ""
          }
        },
        "3b540d6fdfe447b09947c3a01674584f": {
          "model_module": "@jupyter-widgets/base",
          "model_name": "LayoutModel",
          "model_module_version": "1.2.0",
          "state": {
            "_model_module": "@jupyter-widgets/base",
            "_model_module_version": "1.2.0",
            "_model_name": "LayoutModel",
            "_view_count": null,
            "_view_module": "@jupyter-widgets/base",
            "_view_module_version": "1.2.0",
            "_view_name": "LayoutView",
            "align_content": null,
            "align_items": null,
            "align_self": null,
            "border": null,
            "bottom": null,
            "display": null,
            "flex": null,
            "flex_flow": null,
            "grid_area": null,
            "grid_auto_columns": null,
            "grid_auto_flow": null,
            "grid_auto_rows": null,
            "grid_column": null,
            "grid_gap": null,
            "grid_row": null,
            "grid_template_areas": null,
            "grid_template_columns": null,
            "grid_template_rows": null,
            "height": null,
            "justify_content": null,
            "justify_items": null,
            "left": null,
            "margin": null,
            "max_height": null,
            "max_width": null,
            "min_height": null,
            "min_width": null,
            "object_fit": null,
            "object_position": null,
            "order": null,
            "overflow": null,
            "overflow_x": null,
            "overflow_y": null,
            "padding": null,
            "right": null,
            "top": null,
            "visibility": null,
            "width": null
          }
        },
        "69186430028040adb9b7c6752c440c46": {
          "model_module": "@jupyter-widgets/controls",
          "model_name": "ProgressStyleModel",
          "model_module_version": "1.5.0",
          "state": {
            "_model_module": "@jupyter-widgets/controls",
            "_model_module_version": "1.5.0",
            "_model_name": "ProgressStyleModel",
            "_view_count": null,
            "_view_module": "@jupyter-widgets/base",
            "_view_module_version": "1.2.0",
            "_view_name": "StyleView",
            "bar_color": null,
            "description_width": ""
          }
        },
        "8798f2b7dd284577afa963c84bd3a097": {
          "model_module": "@jupyter-widgets/base",
          "model_name": "LayoutModel",
          "model_module_version": "1.2.0",
          "state": {
            "_model_module": "@jupyter-widgets/base",
            "_model_module_version": "1.2.0",
            "_model_name": "LayoutModel",
            "_view_count": null,
            "_view_module": "@jupyter-widgets/base",
            "_view_module_version": "1.2.0",
            "_view_name": "LayoutView",
            "align_content": null,
            "align_items": null,
            "align_self": null,
            "border": null,
            "bottom": null,
            "display": null,
            "flex": null,
            "flex_flow": null,
            "grid_area": null,
            "grid_auto_columns": null,
            "grid_auto_flow": null,
            "grid_auto_rows": null,
            "grid_column": null,
            "grid_gap": null,
            "grid_row": null,
            "grid_template_areas": null,
            "grid_template_columns": null,
            "grid_template_rows": null,
            "height": null,
            "justify_content": null,
            "justify_items": null,
            "left": null,
            "margin": null,
            "max_height": null,
            "max_width": null,
            "min_height": null,
            "min_width": null,
            "object_fit": null,
            "object_position": null,
            "order": null,
            "overflow": null,
            "overflow_x": null,
            "overflow_y": null,
            "padding": null,
            "right": null,
            "top": null,
            "visibility": null,
            "width": null
          }
        },
        "315eac2aedb341ea9f593759183a9bf8": {
          "model_module": "@jupyter-widgets/controls",
          "model_name": "DescriptionStyleModel",
          "model_module_version": "1.5.0",
          "state": {
            "_model_module": "@jupyter-widgets/controls",
            "_model_module_version": "1.5.0",
            "_model_name": "DescriptionStyleModel",
            "_view_count": null,
            "_view_module": "@jupyter-widgets/base",
            "_view_module_version": "1.2.0",
            "_view_name": "StyleView",
            "description_width": ""
          }
        }
      }
    }
  },
  "cells": [
    {
      "cell_type": "markdown",
      "metadata": {
        "id": "view-in-github",
        "colab_type": "text"
      },
      "source": [
        "<a href=\"https://colab.research.google.com/github/OnurKerimoglu/Colab_Notebooks/blob/master/DSR_1_MNIST.ipynb\" target=\"_parent\"><img src=\"https://colab.research.google.com/assets/colab-badge.svg\" alt=\"Open In Colab\"/></a>"
      ]
    },
    {
      "cell_type": "code",
      "execution_count": 1,
      "metadata": {
        "id": "83XU-1BYgSU3"
      },
      "outputs": [],
      "source": [
        "import tensorflow as tf\n",
        "from tensorflow.keras import models, layers\n",
        "import tensorflow_datasets as tfds\n",
        "import numpy as np\n",
        "import matplotlib.pyplot as plt"
      ]
    },
    {
      "cell_type": "code",
      "source": [
        "(mnist_train,mnist_validate, mnist_test), info = tfds.load(\n",
        "    name='mnist',\n",
        "    split = [\"train[0:80%]\",\"train[80%:]\",\"test\"], #train, validate, test\n",
        "    with_info = True,\n",
        "    as_supervised = True\n",
        ")\n",
        "print (info)"
      ],
      "metadata": {
        "colab": {
          "base_uri": "https://localhost:8080/",
          "height": 587,
          "referenced_widgets": [
            "22e54b0d1861461bb63cb26ac5c99047",
            "35d3b2619ab34b59aed62c2cd87e5eda",
            "5f5b508b061d429aa03442f923ed1624",
            "940e562fa32e43e5890d21ea20e27d5d",
            "1efa51634bcb40f9a0c19aeb4e65fdee",
            "5d8725f254e64bb3b49324d2086728ea",
            "9998f2d2adb64cce9b301796cde02b6c",
            "3b540d6fdfe447b09947c3a01674584f",
            "69186430028040adb9b7c6752c440c46",
            "8798f2b7dd284577afa963c84bd3a097",
            "315eac2aedb341ea9f593759183a9bf8"
          ]
        },
        "id": "srsJG1T9i86W",
        "outputId": "d3537d10-5c2c-4c9f-aceb-bc7d43f8a5ce"
      },
      "execution_count": 3,
      "outputs": [
        {
          "output_type": "stream",
          "name": "stdout",
          "text": [
            "\u001b[1mDownloading and preparing dataset 11.06 MiB (download: 11.06 MiB, generated: 21.00 MiB, total: 32.06 MiB) to ~/tensorflow_datasets/mnist/3.0.1...\u001b[0m\n"
          ]
        },
        {
          "output_type": "display_data",
          "data": {
            "text/plain": [
              "Dl Completed...:   0%|          | 0/4 [00:00<?, ? file/s]"
            ],
            "application/vnd.jupyter.widget-view+json": {
              "version_major": 2,
              "version_minor": 0,
              "model_id": "22e54b0d1861461bb63cb26ac5c99047"
            }
          },
          "metadata": {}
        },
        {
          "output_type": "stream",
          "name": "stdout",
          "text": [
            "\u001b[1mDataset mnist downloaded and prepared to ~/tensorflow_datasets/mnist/3.0.1. Subsequent calls will reuse this data.\u001b[0m\n",
            "tfds.core.DatasetInfo(\n",
            "    name='mnist',\n",
            "    full_name='mnist/3.0.1',\n",
            "    description=\"\"\"\n",
            "    The MNIST database of handwritten digits.\n",
            "    \"\"\",\n",
            "    homepage='http://yann.lecun.com/exdb/mnist/',\n",
            "    data_path='~/tensorflow_datasets/mnist/3.0.1',\n",
            "    file_format=tfrecord,\n",
            "    download_size=11.06 MiB,\n",
            "    dataset_size=21.00 MiB,\n",
            "    features=FeaturesDict({\n",
            "        'image': Image(shape=(28, 28, 1), dtype=tf.uint8),\n",
            "        'label': ClassLabel(shape=(), dtype=tf.int64, num_classes=10),\n",
            "    }),\n",
            "    supervised_keys=('image', 'label'),\n",
            "    disable_shuffling=False,\n",
            "    splits={\n",
            "        'test': <SplitInfo num_examples=10000, num_shards=1>,\n",
            "        'train': <SplitInfo num_examples=60000, num_shards=1>,\n",
            "    },\n",
            "    citation=\"\"\"@article{lecun2010mnist,\n",
            "      title={MNIST handwritten digit database},\n",
            "      author={LeCun, Yann and Cortes, Corinna and Burges, CJ},\n",
            "      journal={ATT Labs [Online]. Available: http://yann.lecun.com/exdb/mnist},\n",
            "      volume={2},\n",
            "      year={2010}\n",
            "    }\"\"\",\n",
            ")\n"
          ]
        }
      ]
    },
    {
      "cell_type": "code",
      "source": [
        "for image, label in mnist_train.take(1):\n",
        "  plt.imshow(image.numpy().squeeze(), cmap=\"gray\") #change the EagerTensor object to numpy, and remove the pseudo dimension with size 1\n",
        "  plt.title(f\"Label: {label}\")\n",
        "  plt.show()"
      ],
      "metadata": {
        "colab": {
          "base_uri": "https://localhost:8080/",
          "height": 281
        },
        "id": "mAgHQqBCl1s8",
        "outputId": "1319b7cf-f053-4d76-b9a4-1d1d2dadcb89"
      },
      "execution_count": 4,
      "outputs": [
        {
          "output_type": "display_data",
          "data": {
            "text/plain": [
              "<Figure size 432x288 with 1 Axes>"
            ],
            "image/png": "[encoded data removed]"
          },
          "metadata": {
            "needs_background": "light"
          }
        }
      ]
    },
    {
      "cell_type": "code",
      "source": [
        "def encode(image, label):\n",
        "  # tensorflow expects the inputs to be in float32 and it's a good idea to normalize\n",
        "  # converting the dtype to float 32 does it all\n",
        "  image_encoded = tf.image.convert_image_dtype(image,dtype=tf.float32)\n",
        "  #label_encoded = tf.image.convert_image_dtype(label,dtype=tf.float32)\n",
        "  label_encoded = tf.one_hot(label, depth=10)\n",
        "  return image_encoded, label_encoded\n",
        "\n",
        "#mnist_train_pipeline = mnist_train.map(lambda image, label: encode(image,label))\n",
        "mnist_train_pipeline = mnist_train.map(lambda image, label: encode(image,label))\n",
        "mnist_validate_pipeline = mnist_validate.map(lambda image, label: encode(image,label))\n",
        "mnist_test_pipeline = mnist_validate.map(lambda image, label: encode(image,label))\n",
        "\n",
        "for image, label in mnist_train_pipeline.shuffle(1).take(1):\n",
        "  plt.imshow(image.numpy().squeeze(), cmap=\"gray\") #change the EagerTensor object to numpy, and remove the pseudo dimension with size 1\n",
        "  plt.title(f\"Label: {label}\")\n",
        "  plt.show()"
      ],
      "metadata": {
        "colab": {
          "base_uri": "https://localhost:8080/",
          "height": 281
        },
        "id": "god4Ee1toESr",
        "outputId": "73c97fe4-a2c4-40f9-ee0e-37eda4945971"
      },
      "execution_count": 15,
      "outputs": [
        {
          "output_type": "display_data",
          "data": {
            "text/plain": [
              "<Figure size 432x288 with 1 Axes>"
            ],
            "image/png": "[encoded data removed]"
          },
          "metadata": {
            "needs_background": "light"
          }
        }
      ]
    },
    {
      "cell_type": "code",
      "source": [
        "model = models.Sequential()\n",
        "model.add(layers.Flatten(input_shape=(28,28,1)))\n",
        "#model.add(layers.Dense(512, activation='relu'))\n",
        "model.add(layers.Dense(256, activation='relu'))  #relu is a cheap nonlinear function, and is usually a good start\n",
        "model.add(layers.Dense(10, activation=\"softmax\")) #softmax means all output will sum up to one, and each output value will be between 0-1. Good choice for classificaiton\n",
        "model.summary()\n",
        "\n",
        "model.compile(\n",
        "    optimizer = \"adam\",\n",
        "    loss = \"categorical_crossentropy\",\n",
        "    metrics = [\"accuracy\"]\n",
        ")"
      ],
      "metadata": {
        "colab": {
          "base_uri": "https://localhost:8080/"
        },
        "id": "XKPsycUu_B-W",
        "outputId": "c5d58c75-9d5f-4045-ddb2-36c455ca3bbd"
      },
      "execution_count": 41,
      "outputs": [
        {
          "output_type": "stream",
          "name": "stdout",
          "text": [
            "Model: \"sequential_5\"\n",
            "_________________________________________________________________\n",
            " Layer (type)                Output Shape              Param #   \n",
            "=================================================================\n",
            " flatten_5 (Flatten)         (None, 784)               0         \n",
            "                                                                 \n",
            " dense_5 (Dense)             (None, 256)               200960    \n",
            "                                                                 \n",
            " dense_6 (Dense)             (None, 10)                2570      \n",
            "                                                                 \n",
            "=================================================================\n",
            "Total params: 203,530\n",
            "Trainable params: 203,530\n",
            "Non-trainable params: 0\n",
            "_________________________________________________________________\n"
          ]
        }
      ]
    },
    {
      "cell_type": "code",
      "source": [
        "for image,label in mnist_test_pipeline.batch(12).take(1):\n",
        "#for image,label in mnist_test_pipeline.take(1):\n",
        "  print (image.shape)\n",
        "  print(label.shape)\n",
        "\n",
        "  plt.plot(label[0])\n",
        "\n",
        "  prediction = model.predict(image)\n",
        "  print(prediction.shape) \n",
        "  plt.plot(prediction[0]) "
      ],
      "metadata": {
        "colab": {
          "base_uri": "https://localhost:8080/",
          "height": 334
        },
        "id": "aNp2ufR0Babs",
        "outputId": "5bdbe17a-9806-4746-beee-92e5e186fb83"
      },
      "execution_count": 23,
      "outputs": [
        {
          "output_type": "stream",
          "name": "stdout",
          "text": [
            "(1, 28, 28, 1)\n",
            "(1, 10)\n",
            "1/1 [==============================] - 0s 30ms/step\n",
            "(1, 10)\n"
          ]
        },
        {
          "output_type": "display_data",
          "data": {
            "text/plain": [
              "<Figure size 432x288 with 1 Axes>"
            ],
            "image/png": "[encoded data removed]"
          },
          "metadata": {
            "needs_background": "light"
          }
        }
      ]
    },
    {
      "cell_type": "code",
      "source": [
        "loss, accuracy = model.evaluate(mnist_test_pipeline.batch(32), verbose=0)\n",
        "print(loss)\n",
        "print(accuracy)"
      ],
      "metadata": {
        "colab": {
          "base_uri": "https://localhost:8080/"
        },
        "id": "YYw1T3Q1HI7a",
        "outputId": "cf8c4147-00a9-4f09-a796-1d08ed2d3ace"
      },
      "execution_count": 24,
      "outputs": [
        {
          "output_type": "stream",
          "name": "stdout",
          "text": [
            "2.387122869491577\n",
            "0.07999999821186066\n"
          ]
        }
      ]
    },
    {
      "cell_type": "code",
      "source": [
        "history = model.fit(\n",
        "    mnist_train_pipeline.shuffle(48000).batch(128), # we shuffle to avoid model overfitting the order of batches.\n",
        "    epochs = 10,\n",
        "    validation_data = mnist_validate_pipeline.batch(128)\n",
        ")"
      ],
      "metadata": {
        "colab": {
          "base_uri": "https://localhost:8080/"
        },
        "id": "FDo9hygyJkhj",
        "outputId": "603dd6ff-1353-41fe-d57c-97b423bc2e8e"
      },
      "execution_count": 44,
      "outputs": [
        {
          "output_type": "stream",
          "name": "stdout",
          "text": [
            "Epoch 1/10\n",
            "375/375 [==============================] - 3s 5ms/step - loss: 0.0484 - accuracy: 0.9861 - val_loss: 0.0879 - val_accuracy: 0.9750\n",
            "Epoch 2/10\n",
            "375/375 [==============================] - 3s 4ms/step - loss: 0.0385 - accuracy: 0.9888 - val_loss: 0.0808 - val_accuracy: 0.9753\n",
            "Epoch 3/10\n",
            "375/375 [==============================] - 3s 5ms/step - loss: 0.0312 - accuracy: 0.9912 - val_loss: 0.0774 - val_accuracy: 0.9764\n",
            "Epoch 4/10\n",
            "375/375 [==============================] - 3s 4ms/step - loss: 0.0243 - accuracy: 0.9937 - val_loss: 0.0773 - val_accuracy: 0.9765\n",
            "Epoch 5/10\n",
            "375/375 [==============================] - 3s 4ms/step - loss: 0.0187 - accuracy: 0.9956 - val_loss: 0.0735 - val_accuracy: 0.9786\n",
            "Epoch 6/10\n",
            "375/375 [==============================] - 3s 5ms/step - loss: 0.0162 - accuracy: 0.9960 - val_loss: 0.0782 - val_accuracy: 0.9778\n",
            "Epoch 7/10\n",
            "375/375 [==============================] - 3s 4ms/step - loss: 0.0128 - accuracy: 0.9974 - val_loss: 0.0770 - val_accuracy: 0.9787\n",
            "Epoch 8/10\n",
            "375/375 [==============================] - 3s 4ms/step - loss: 0.0092 - accuracy: 0.9985 - val_loss: 0.0761 - val_accuracy: 0.9786\n",
            "Epoch 9/10\n",
            "375/375 [==============================] - 3s 4ms/step - loss: 0.0077 - accuracy: 0.9987 - val_loss: 0.0804 - val_accuracy: 0.9777\n",
            "Epoch 10/10\n",
            "375/375 [==============================] - 3s 4ms/step - loss: 0.0070 - accuracy: 0.9989 - val_loss: 0.0832 - val_accuracy: 0.9778\n"
          ]
        }
      ]
    },
    {
      "cell_type": "code",
      "source": [
        "plt.plot(history.history[\"loss\"],label=\"loss\")\n",
        "plt.plot(history.history[\"val_loss\"], label=\"val_loss\")\n",
        "plt.legend()\n",
        "plt.show()\n",
        "plt.close()\n",
        "\n",
        "plt.plot(history.history[\"accuracy\"], label=\"accuracy\")\n",
        "plt.plot(history.history[\"val_accuracy\"], label=\"val_accuracy\")\n",
        "plt.legend()\n",
        "plt.show()\n",
        "plt.close()"
      ],
      "metadata": {
        "colab": {
          "base_uri": "https://localhost:8080/",
          "height": 517
        },
        "id": "RBx7fobhNvZj",
        "outputId": "f8a26100-f0f7-4fc9-879b-e57ce3abb11f"
      },
      "execution_count": 45,
      "outputs": [
        {
          "output_type": "display_data",
          "data": {
            "text/plain": [
              "<Figure size 432x288 with 1 Axes>"
            ],
            "image/png": "[encoded data removed]"
          },
          "metadata": {
            "needs_background": "light"
          }
        },
        {
          "output_type": "display_data",
          "data": {
            "text/plain": [
              "<Figure size 432x288 with 1 Axes>"
            ],
            "image/png": "[encoded data removed]"
          },
          "metadata": {
            "needs_background": "light"
          }
        }
      ]
    },
    {
      "cell_type": "code",
      "source": [
        "#To be able to go back in time to a good epoch size\n",
        "#https://www.tensorflow.org/api_docs/python/tf/keras/callbacks/ModelCheckpoint\n",
        "EPOCHS = 10\n",
        "checkpoint_filepath = 'mnist/checkpoints/checkpoint_test1'\n",
        "model_checkpoint_callback = tf.keras.callbacks.ModelCheckpoint(\n",
        "    filepath=checkpoint_filepath,\n",
        "    save_weights_only=True,\n",
        "    monitor='val_accuracy',\n",
        "    mode='max',\n",
        "    save_best_only=False)\n",
        "\n",
        "# Model weights are saved at the end of every epoch, if it's the best seen\n",
        "# so far.\n",
        "#model.fit(epochs=EPOCHS, callbacks=[model_checkpoint_callback])\n",
        "history = model.fit(\n",
        "    mnist_train_pipeline.shuffle(48000).batch(128), # we shuffle to avoid model overfitting the order of batches.\n",
        "    epochs = EPOCHS,\n",
        "    validation_data = mnist_validate_pipeline.batch(128),\n",
        "    callbacks=[model_checkpoint_callback]\n",
        ")\n",
        "\n",
        "\n",
        "# If save_best_only, following loads the best model weights (that are considered the best) into the model.\n",
        "#model.load_weights(checkpoint_filepath)\n"
      ],
      "metadata": {
        "colab": {
          "base_uri": "https://localhost:8080/"
        },
        "id": "Hon8QtZbN9UZ",
        "outputId": "e923c6ed-265d-42c7-b1d7-b636447803f1"
      },
      "execution_count": 49,
      "outputs": [
        {
          "output_type": "stream",
          "name": "stdout",
          "text": [
            "Epoch 1/10\n",
            "375/375 [==============================] - 3s 5ms/step - loss: 0.0053 - accuracy: 0.9991 - val_loss: 0.0831 - val_accuracy: 0.9793\n",
            "Epoch 2/10\n",
            "375/375 [==============================] - 3s 4ms/step - loss: 0.0038 - accuracy: 0.9995 - val_loss: 0.0846 - val_accuracy: 0.9782\n",
            "Epoch 3/10\n",
            "375/375 [==============================] - 3s 4ms/step - loss: 0.0029 - accuracy: 0.9998 - val_loss: 0.0843 - val_accuracy: 0.9802\n",
            "Epoch 4/10\n",
            "375/375 [==============================] - 3s 5ms/step - loss: 0.0019 - accuracy: 0.9999 - val_loss: 0.0828 - val_accuracy: 0.9800\n",
            "Epoch 5/10\n",
            "375/375 [==============================] - 4s 6ms/step - loss: 0.0012 - accuracy: 1.0000 - val_loss: 0.0832 - val_accuracy: 0.9803\n",
            "Epoch 6/10\n",
            "375/375 [==============================] - 4s 6ms/step - loss: 9.0079e-04 - accuracy: 1.0000 - val_loss: 0.0847 - val_accuracy: 0.9799\n",
            "Epoch 7/10\n",
            "375/375 [==============================] - 4s 6ms/step - loss: 7.4073e-04 - accuracy: 1.0000 - val_loss: 0.0881 - val_accuracy: 0.9795\n",
            "Epoch 8/10\n",
            "375/375 [==============================] - 3s 4ms/step - loss: 7.3678e-04 - accuracy: 1.0000 - val_loss: 0.0883 - val_accuracy: 0.9794\n",
            "Epoch 9/10\n",
            "375/375 [==============================] - 3s 4ms/step - loss: 0.0165 - accuracy: 0.9947 - val_loss: 0.1050 - val_accuracy: 0.9762\n",
            "Epoch 10/10\n",
            "375/375 [==============================] - 3s 5ms/step - loss: 0.0072 - accuracy: 0.9980 - val_loss: 0.1047 - val_accuracy: 0.9778\n"
          ]
        },
        {
          "output_type": "execute_result",
          "data": {
            "text/plain": [
              "<tensorflow.python.training.tracking.util.CheckpointLoadStatus at 0x7f9a59c46710>"
            ]
          },
          "metadata": {},
          "execution_count": 49
        }
      ]
    },
    {
      "cell_type": "code",
      "source": [
        "#To monitor training, we can use TensorBoard:\n",
        "# https://www.tensorflow.org/tensorboard/get_started\n",
        "#Using TensorBoard with Keras Model.fit()\n",
        "#When training with Keras's Model.fit(), adding the tf.keras.callbacks.TensorBoard callback ensures that logs are created and stored. \n",
        "#Additionally, enable histogram computation every epoch with histogram_freq=1 (this is off by default)\n",
        "#Place the logs in a timestamped subdirectory to allow easy selection of different training runs.\n",
        "\n",
        "import datetime\n",
        "log_dir = \"mnist/logs/fit/\" + datetime.datetime.now().strftime(\"%Y%m%d-%H%M%S\")\n",
        "tensorboard_callback = tf.keras.callbacks.TensorBoard(log_dir=log_dir, histogram_freq=1)\n",
        "\n",
        "history = model.fit(\n",
        "    mnist_train_pipeline.shuffle(48000).batch(128), # we shuffle to avoid model overfitting the order of batches.\n",
        "    epochs = EPOCHS,\n",
        "    validation_data = mnist_validate_pipeline.batch(128),\n",
        "    callbacks=[tensorboard_callback]\n",
        ")\n",
        "\n",
        "\n"
      ],
      "metadata": {
        "colab": {
          "base_uri": "https://localhost:8080/"
        },
        "id": "jLv58w2SiiN9",
        "outputId": "db554731-99d0-4a67-8b7a-5a10d6764319"
      },
      "execution_count": 51,
      "outputs": [
        {
          "output_type": "stream",
          "name": "stdout",
          "text": [
            "Epoch 1/10\n",
            "375/375 [==============================] - 4s 8ms/step - loss: 0.0031 - accuracy: 0.9993 - val_loss: 0.0987 - val_accuracy: 0.9781\n",
            "Epoch 2/10\n",
            "375/375 [==============================] - 3s 5ms/step - loss: 8.2325e-04 - accuracy: 1.0000 - val_loss: 0.0927 - val_accuracy: 0.9797\n",
            "Epoch 3/10\n",
            "375/375 [==============================] - 3s 5ms/step - loss: 4.9141e-04 - accuracy: 1.0000 - val_loss: 0.0924 - val_accuracy: 0.9793\n",
            "Epoch 4/10\n",
            "375/375 [==============================] - 3s 5ms/step - loss: 3.2754e-04 - accuracy: 1.0000 - val_loss: 0.0932 - val_accuracy: 0.9799\n",
            "Epoch 5/10\n",
            "375/375 [==============================] - 3s 5ms/step - loss: 2.8166e-04 - accuracy: 1.0000 - val_loss: 0.0939 - val_accuracy: 0.9801\n",
            "Epoch 6/10\n",
            "375/375 [==============================] - 3s 5ms/step - loss: 2.4734e-04 - accuracy: 1.0000 - val_loss: 0.0950 - val_accuracy: 0.9803\n",
            "Epoch 7/10\n",
            "375/375 [==============================] - 5s 9ms/step - loss: 2.2399e-04 - accuracy: 1.0000 - val_loss: 0.0953 - val_accuracy: 0.9807\n",
            "Epoch 8/10\n",
            "375/375 [==============================] - 4s 5ms/step - loss: 1.9990e-04 - accuracy: 1.0000 - val_loss: 0.0963 - val_accuracy: 0.9803\n",
            "Epoch 9/10\n",
            "375/375 [==============================] - 4s 6ms/step - loss: 1.8016e-04 - accuracy: 1.0000 - val_loss: 0.0969 - val_accuracy: 0.9805\n",
            "Epoch 10/10\n",
            "375/375 [==============================] - 4s 5ms/step - loss: 1.5623e-04 - accuracy: 1.0000 - val_loss: 0.0982 - val_accuracy: 0.9800\n"
          ]
        }
      ]
    },
    {
      "cell_type": "code",
      "source": [
        "%tensorboard --logdir logs/fit"
      ],
      "metadata": {
        "id": "Nb14BSHKj-8V"
      },
      "execution_count": null,
      "outputs": []
    },
    {
      "cell_type": "code",
      "source": [
        "#power consumption\n",
        "!nvidia-smi"
      ],
      "metadata": {
        "colab": {
          "base_uri": "https://localhost:8080/"
        },
        "id": "tGhEMK-CYCgG",
        "outputId": "0d53c895-4e65-4f28-dad0-f488e5531d88"
      },
      "execution_count": 50,
      "outputs": [
        {
          "output_type": "stream",
          "name": "stdout",
          "text": [
            "Tue Oct 25 14:26:48 2022       \n",
            "+-----------------------------------------------------------------------------+\n",
            "| NVIDIA-SMI 460.32.03    Driver Version: 460.32.03    CUDA Version: 11.2     |\n",
            "|-------------------------------+----------------------+----------------------+\n",
            "| GPU  Name        Persistence-M| Bus-Id        Disp.A | Volatile Uncorr. ECC |\n",
            "| Fan  Temp  Perf  Pwr:Usage/Cap|         Memory-Usage | GPU-Util  Compute M. |\n",
            "|                               |                      |               MIG M. |\n",
            "|===============================+======================+======================|\n",
            "|   0  Tesla T4            Off  | 00000000:00:04.0 Off |                    0 |\n",
            "| N/A   75C    P0    29W /  70W |    492MiB / 15109MiB |      0%      Default |\n",
            "|                               |                      |                  N/A |\n",
            "+-------------------------------+----------------------+----------------------+\n",
            "                                                                               \n",
            "+-----------------------------------------------------------------------------+\n",
            "| Processes:                                                                  |\n",
            "|  GPU   GI   CI        PID   Type   Process name                  GPU Memory |\n",
            "|        ID   ID                                                   Usage      |\n",
            "|=============================================================================|\n",
            "|    0   N/A  N/A      2619      C   /usr/bin/python3                  489MiB |\n",
            "+-----------------------------------------------------------------------------+\n"
          ]
        }
      ]
    },
    {
      "cell_type": "code",
      "source": [],
      "metadata": {
        "id": "l0JdJBdgYFOn"
      },
      "execution_count": null,
      "outputs": []
    }
  ]
}