{
  "nbformat": 4,
  "nbformat_minor": 0,
  "metadata": {
    "colab": {
      "provenance": [],
      "collapsed_sections": [],
      "include_colab_link": true
    },
    "kernelspec": {
      "name": "python3",
      "display_name": "Python 3"
    }
  },
  "cells": [
    {
      "cell_type": "markdown",
      "metadata": {
        "id": "view-in-github",
        "colab_type": "text"
      },
      "source": [
        "<a href=\"https://colab.research.google.com/github/OnurKerimoglu/Colab_Notebooks/blob/master/PyTorch_Conv2D.ipynb\" target=\"_parent\"><img src=\"https://colab.research.google.com/assets/colab-badge.svg\" alt=\"Open In Colab\"/></a>"
      ]
    },
    {
      "cell_type": "markdown",
      "metadata": {
        "id": "Og4H_xMW0_l7"
      },
      "source": [
        "# Conv2D exercises\n",
        "\n",
        "https://pytorch.org/docs/stable/generated/torch.nn.Conv2d.html\n",
        "\n",
        "* Create 30 images with shape (1, 28, 28).\n",
        "* Build 6 convolutional filters of size (3, 3)\n",
        "  * with stride first set to 1, then set to 2 \n",
        "  * padding first set to 1, and then set to 0.\n",
        "* Apply the filters in the image and print the shape of the feature map.\n",
        "\n",
        "\n",
        "\n",
        "The arguments in `Conv2d` are `in_channels`, `out_channels`, `kernel_size`, `stride`, and `padding`.\n",
        "\n",
        "The number of in_channels is 1, while the number of `out_channels` is 6."
      ]
    },
    {
      "cell_type": "code",
      "metadata": {
        "colab": {
          "base_uri": "https://localhost:8080/",
          "height": 136
        },
        "id": "hkxE89z407Pq",
        "outputId": "3bf29825-6dde-4452-8d58-4280e51f9059"
      },
      "source": [
        "# Create 30 random matrices (\"images\") of shape (1, 28, 28)\n",
        "images = ____.____(____, ____, ____, ____)\n",
        "\n",
        "# Build 6 conv. filters of 3x3\n",
        "conv_filters = ____.____.____(____=____, ____=____, ____=____, ____=____, ____=____)\n",
        "\n",
        "# Convolve the image with the filters \n",
        "output_feature = ____(____)\n",
        "# what is the dimension of the output tensor? \n",
        "print(output_feature.shape)"
      ],
      "execution_count": null,
      "outputs": [
        {
          "output_type": "error",
          "ename": "SyntaxError",
          "evalue": "ignored",
          "traceback": [
            "\u001b[0;36m  File \u001b[0;32m\"<ipython-input-2-bdef3606032e>\"\u001b[0;36m, line \u001b[0;32m5\u001b[0m\n\u001b[0;31m    conv_filters = ____.____.____(____=____, ____=____, ____=____, ____=____, ____=____)\u001b[0m\n\u001b[0m                                            ^\u001b[0m\n\u001b[0;31mSyntaxError\u001b[0m\u001b[0;31m:\u001b[0m keyword argument repeated\n"
          ]
        }
      ]
    },
    {
      "cell_type": "code",
      "metadata": {
        "colab": {
          "base_uri": "https://localhost:8080/"
        },
        "id": "gxzLEGYI0uce",
        "outputId": "9afa9ee2-453a-4f2d-db3e-871af4587289"
      },
      "source": [
        "import torch\n",
        "# Create 30 random images of shape (1, 28, 28)\n",
        "images = torch.rand(30, 1, 28, 28)\n",
        "\n",
        "# Build 6 conv. filters\n",
        "conv_filters = torch.nn.Conv2d(in_channels=1, # e.g., 1 if gray scale, 3 if RGB\n",
        "                               out_channels=6, #create 6 different randomly initialized channels\n",
        "                               kernel_size=3, #3x3\n",
        "                               stride=2, \n",
        "                               padding=1)\n",
        "\n",
        "# Convolve the image with the filters\n",
        "output_feature = conv_filters(images)\n",
        "# what is the dimension of the output tensor? \n",
        "print(output_feature.shape)"
      ],
      "execution_count": 2,
      "outputs": [
        {
          "output_type": "stream",
          "name": "stdout",
          "text": [
            "torch.Size([30, 6, 14, 14])\n"
          ]
        }
      ]
    },
    {
      "cell_type": "code",
      "source": [
        "from PIL import Image\n",
        "import matplotlib.pyplot as plt\n",
        "plt.imshow(images[0,:,:,:].squeeze().numpy());\n",
        "print(images[0,:,:,:].shape)"
      ],
      "metadata": {
        "colab": {
          "base_uri": "https://localhost:8080/",
          "height": 284
        },
        "id": "uJpJxbwMlbZw",
        "outputId": "cda0d0a0-3d71-41eb-f428-60731fd136d2"
      },
      "execution_count": 3,
      "outputs": [
        {
          "output_type": "stream",
          "name": "stdout",
          "text": [
            "torch.Size([1, 28, 28])\n"
          ]
        },
        {
          "output_type": "display_data",
          "data": {
            "text/plain": [
              "<Figure size 432x288 with 1 Axes>"
            ],
            "image/png": "[encoded data removed]"
          },
          "metadata": {
            "needs_background": "light"
          }
        }
      ]
    },
    {
      "cell_type": "code",
      "source": [
        "output_feature.shape"
      ],
      "metadata": {
        "colab": {
          "base_uri": "https://localhost:8080/"
        },
        "id": "bWdsLy7SnLQg",
        "outputId": "6a920a48-de7c-4e83-d349-ff02d41fd168"
      },
      "execution_count": 4,
      "outputs": [
        {
          "output_type": "execute_result",
          "data": {
            "text/plain": [
              "torch.Size([30, 6, 14, 14])"
            ]
          },
          "metadata": {},
          "execution_count": 4
        }
      ]
    },
    {
      "cell_type": "code",
      "source": [
        "from PIL import Image\n",
        "import matplotlib.pyplot as plt\n",
        "plt.imshow(output_feature[0,1,:,:].squeeze().detach().numpy());\n",
        "print(output_feature[0,:,:,:].shape)"
      ],
      "metadata": {
        "colab": {
          "base_uri": "https://localhost:8080/",
          "height": 284
        },
        "id": "35vRklfUmDw_",
        "outputId": "7458ad29-51b2-44c2-d4cc-fe85db177e5c"
      },
      "execution_count": 5,
      "outputs": [
        {
          "output_type": "stream",
          "name": "stdout",
          "text": [
            "torch.Size([6, 14, 14])\n"
          ]
        },
        {
          "output_type": "display_data",
          "data": {
            "text/plain": [
              "<Figure size 432x288 with 1 Axes>"
            ],
            "image/png": "[encoded data removed]"
          },
          "metadata": {
            "needs_background": "light"
          }
        }
      ]
    },
    {
      "cell_type": "code",
      "source": [
        "#@title  {run: 'auto'}\n",
        "\n",
        "slider_value = 1  #@param {type: \"slider\", min: 0, max: 29}\n",
        "plt.imshow(output_feature[slider_value,1,:,:].squeeze().detach().numpy());\n",
        "print(output_feature[slider_value,:,:,:].shape)\n"
      ],
      "metadata": {
        "colab": {
          "base_uri": "https://localhost:8080/",
          "height": 284
        },
        "id": "kkarIjHPOAxM",
        "outputId": "e1d0edf1-bbb0-4aac-e556-3068a37227c4"
      },
      "execution_count": 9,
      "outputs": [
        {
          "output_type": "stream",
          "name": "stdout",
          "text": [
            "torch.Size([6, 14, 14])\n"
          ]
        },
        {
          "output_type": "display_data",
          "data": {
            "text/plain": [
              "<Figure size 432x288 with 1 Axes>"
            ],
            "image/png": "[encoded data removed]"
          },
          "metadata": {
            "needs_background": "light"
          }
        }
      ]
    },
    {
      "cell_type": "code",
      "source": [
        "import torch\n",
        "# Create 30 random images of shape (1, 28, 28)\n",
        "images = torch.rand(30, 1, 28, 28)\n",
        "\n",
        "# Build 6 conv. filters\n",
        "conv_filters = torch.nn.Conv2d(in_channels=1, out_channels=6, kernel_size=5, \n",
        "                               stride=1, padding=0)\n",
        "\n",
        "# Convolve the image with the filters\n",
        "output_feature = conv_filters(images)\n",
        "# what is the dimension of the output tensor? \n",
        "print(output_feature.shape)"
      ],
      "metadata": {
        "id": "D_ohDUFlnBUs",
        "colab": {
          "base_uri": "https://localhost:8080/"
        },
        "outputId": "82df9a6d-aac2-4722-d176-6ed7e26508d3"
      },
      "execution_count": 10,
      "outputs": [
        {
          "output_type": "stream",
          "name": "stdout",
          "text": [
            "torch.Size([30, 6, 24, 24])\n"
          ]
        }
      ]
    },
    {
      "cell_type": "code",
      "source": [],
      "metadata": {
        "id": "-k2bETK0Nf_9"
      },
      "execution_count": null,
      "outputs": []
    }
  ]
}